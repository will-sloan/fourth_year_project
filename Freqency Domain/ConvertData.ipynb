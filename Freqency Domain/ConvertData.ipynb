{
 "cells": [
  {
   "cell_type": "code",
   "execution_count": 1,
   "metadata": {},
   "outputs": [],
   "source": [
    "# Converts the wav files into spectrograms"
   ]
  },
  {
   "cell_type": "code",
   "execution_count": 47,
   "metadata": {},
   "outputs": [],
   "source": [
    "import librosa\n",
    "import librosa.display\n",
    "import matplotlib.pyplot as plt\n",
    "import numpy as np\n",
    "import torchaudio"
   ]
  },
  {
   "cell_type": "code",
   "execution_count": 65,
   "metadata": {},
   "outputs": [
    {
     "ename": "FileNotFoundError",
     "evalue": "[Errno 2] No such file or directory: '/workspace/1sec_wav_files'",
     "output_type": "error",
     "traceback": [
      "\u001b[0;31m---------------------------------------------------------------------------\u001b[0m",
      "\u001b[0;31mFileNotFoundError\u001b[0m                         Traceback (most recent call last)",
      "Cell \u001b[0;32mIn[65], line 7\u001b[0m\n\u001b[1;32m      4\u001b[0m \u001b[38;5;66;03m# Use os to get list of all files in directory\u001b[39;00m\n\u001b[1;32m      5\u001b[0m \u001b[38;5;28;01mimport\u001b[39;00m \u001b[38;5;21;01mos\u001b[39;00m\n\u001b[0;32m----> 7\u001b[0m file_list \u001b[38;5;241m=\u001b[39m \u001b[43mos\u001b[49m\u001b[38;5;241;43m.\u001b[39;49m\u001b[43mlistdir\u001b[49m\u001b[43m(\u001b[49m\u001b[43mtarget_dir\u001b[49m\u001b[43m)\u001b[49m\n\u001b[1;32m      9\u001b[0m \u001b[38;5;66;03m# Loop through all files\u001b[39;00m\n\u001b[1;32m     10\u001b[0m \u001b[38;5;28;01mfor\u001b[39;00m file \u001b[38;5;129;01min\u001b[39;00m file_list:\n\u001b[1;32m     11\u001b[0m     \u001b[38;5;66;03m# For each file, load in as wave then convert to spectrogram\u001b[39;00m\n",
      "\u001b[0;31mFileNotFoundError\u001b[0m: [Errno 2] No such file or directory: '/workspace/1sec_wav_files'"
     ]
    }
   ],
   "source": [
    "# Load all files from /workspace/small_model_data3\n",
    "target_dir = '/workspace/1sec_wav_files'\n",
    "output_dir = '/workspace/1sec_spectrogram_files'\n",
    "# Use os to get list of all files in directory\n",
    "import os\n",
    "\n",
    "file_list = os.listdir(target_dir)\n",
    "\n",
    "# Loop through all files\n",
    "for file in file_list:\n",
    "    # For each file, load in as wave then convert to spectrogram\n",
    "    audio_path = os.path.join(target_dir, file)\n",
    "    y, sr = librosa.load(audio_path, sr=44100)\n",
    "    # Define the sample rate, window length, hop length, and FFT size\n",
    "    sr = 44100  # Sample rate in Hz (change this to match your audio's sample rate)\n",
    "    window_length_ms = 25  # Window length in ms\n",
    "    hop_length_ms = 10  # Hop length in ms\n",
    "\n",
    "    # Convert window length and hop length from ms to samples\n",
    "    window_length_samples = int(sr * window_length_ms / 1000)\n",
    "    hop_length_samples = int(sr * hop_length_ms / 1000)\n",
    "\n",
    "    n_fft = window_length_samples\n",
    "\n",
    "    # Compute the STFT with a Hanning window\n",
    "    D = librosa.stft(y, n_fft=n_fft, hop_length=hop_length_samples, win_length=window_length_samples, window='hann')\n",
    "\n",
    "    # Save the spectrogram in output\n",
    "    np.save(os.path.join(output_dir, file), D)\n",
    "    #print(os.path.join(output_dir, file))\n",
    "\n",
    "    \n"
   ]
  },
  {
   "cell_type": "code",
   "execution_count": null,
   "metadata": {},
   "outputs": [],
   "source": []
  }
 ],
 "metadata": {
  "kernelspec": {
   "display_name": "Python 3 (ipykernel)",
   "language": "python",
   "name": "python3"
  },
  "language_info": {
   "codemirror_mode": {
    "name": "ipython",
    "version": 3
   },
   "file_extension": ".py",
   "mimetype": "text/x-python",
   "name": "python",
   "nbconvert_exporter": "python",
   "pygments_lexer": "ipython3",
   "version": "3.8.13"
  }
 },
 "nbformat": 4,
 "nbformat_minor": 2
}
