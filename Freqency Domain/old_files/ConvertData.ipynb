{
 "cells": [
  {
   "cell_type": "code",
   "execution_count": 1,
   "metadata": {},
   "outputs": [],
   "source": [
    "# Converts the wav files into spectrograms"
   ]
  },
  {
   "cell_type": "code",
   "execution_count": 2,
   "metadata": {},
   "outputs": [],
   "source": [
    "import librosa\n",
    "import librosa.display\n",
    "import matplotlib.pyplot as plt\n",
    "import numpy as np\n",
    "import torchaudio"
   ]
  },
  {
   "cell_type": "code",
   "execution_count": 5,
   "metadata": {},
   "outputs": [
    {
     "name": "stdout",
     "output_type": "stream",
     "text": [
      "600\n",
      "300\n",
      "600\n",
      "(301, 107)\n"
     ]
    }
   ],
   "source": [
    "# Load all files from /workspace/small_model_data3\n",
    "target_dir = '/workspace/extension/1sec_wav_files'\n",
    "output_dir = '/workspace/extension/1sec_spectrogram_files'\n",
    "# Use os to get list of all files in directory\n",
    "import os\n",
    "\n",
    "file_list = os.listdir(target_dir)\n",
    "\n",
    "# Loop through all files\n",
    "for file in file_list:\n",
    "    # For each file, load in as wave then convert to spectrogram\n",
    "    audio_path = os.path.join(target_dir, file)\n",
    "    y, sr = librosa.load(audio_path, sr=32000)\n",
    "    # Define the sample rate, window length, hop length, and FFT size\n",
    "    sr = 32000  # Sample rate in Hz (change this to match your audio's sample rate)\n",
    "    n_fft = 600\n",
    "    window_length_samples = len(y)\n",
    "    hop_length_samples = len(y)\n",
    "    # window_length_samples = n_fft\n",
    "    # hop_length_samples = n_fft // 2  # This is a common choice\n",
    "\n",
    "    # Convert window length and hop length from ms to samples\n",
    "    #window_length_samples = int(sr * window_length_ms / 1000)\n",
    "    #hop_length_samples = int(sr * hop_length_ms / 1000)\n",
    "\n",
    "    \n",
    "    print(window_length_samples)\n",
    "    print(hop_length_samples)\n",
    "    print(n_fft)\n",
    "    # Compute the STFT with a Hanning window\n",
    "    D = librosa.stft(y, n_fft=n_fft, hop_length=hop_length_samples, win_length=window_length_samples, window='hann')\n",
    "    #D = librosa.stft(y, n_fft=1102, window='hann', )\n",
    "\n",
    "    print(D.shape)\n",
    "    break\n",
    "    # Save the spectrogram in output\n",
    "    #np.save(os.path.join(output_dir, file), D)\n",
    "    #print(os.path.join(output_dir, file))\n",
    "\n",
    "    \n"
   ]
  },
  {
   "cell_type": "code",
   "execution_count": 24,
   "metadata": {},
   "outputs": [
    {
     "data": {
      "text/plain": [
       "97"
      ]
     },
     "execution_count": 24,
     "metadata": {},
     "output_type": "execute_result"
    }
   ],
   "source": [
    "1 + (len(y) - n_fft) // hop_length_samples  "
   ]
  },
  {
   "cell_type": "code",
   "execution_count": 15,
   "metadata": {},
   "outputs": [
    {
     "data": {
      "text/plain": [
       "42998"
      ]
     },
     "execution_count": 15,
     "metadata": {},
     "output_type": "execute_result"
    }
   ],
   "source": [
    "q = len(y) - n_fft\n",
    "q"
   ]
  },
  {
   "cell_type": "code",
   "execution_count": 19,
   "metadata": {},
   "outputs": [
    {
     "data": {
      "text/plain": [
       "97"
      ]
     },
     "execution_count": 19,
     "metadata": {},
     "output_type": "execute_result"
    }
   ],
   "source": [
    "qq = q // (hop_length_samples)\n",
    "qq"
   ]
  },
  {
   "cell_type": "code",
   "execution_count": 20,
   "metadata": {},
   "outputs": [
    {
     "data": {
      "text/plain": [
       "97"
      ]
     },
     "execution_count": 20,
     "metadata": {},
     "output_type": "execute_result"
    }
   ],
   "source": [
    "qq"
   ]
  },
  {
   "cell_type": "code",
   "execution_count": null,
   "metadata": {},
   "outputs": [],
   "source": []
  }
 ],
 "metadata": {
  "kernelspec": {
   "display_name": "Python 3 (ipykernel)",
   "language": "python",
   "name": "python3"
  },
  "language_info": {
   "codemirror_mode": {
    "name": "ipython",
    "version": 3
   },
   "file_extension": ".py",
   "mimetype": "text/x-python",
   "name": "python",
   "nbconvert_exporter": "python",
   "pygments_lexer": "ipython3",
   "version": "3.8.13"
  }
 },
 "nbformat": 4,
 "nbformat_minor": 2
}
