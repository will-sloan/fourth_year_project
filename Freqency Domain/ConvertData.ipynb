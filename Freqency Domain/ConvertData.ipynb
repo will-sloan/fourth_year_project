{
 "cells": [
  {
   "cell_type": "code",
   "execution_count": 1,
   "metadata": {},
   "outputs": [],
   "source": [
    "# Converts the wav files into spectrograms"
   ]
  },
  {
   "cell_type": "code",
   "execution_count": 2,
   "metadata": {},
   "outputs": [],
   "source": [
    "import librosa\n",
    "import librosa.display\n",
    "import matplotlib.pyplot as plt\n",
    "import numpy as np\n",
    "import torchaudio"
   ]
  },
  {
   "cell_type": "code",
   "execution_count": 3,
   "metadata": {},
   "outputs": [],
   "source": [
    "# Load all files from /workspace/small_model_data3\n",
    "target_dir = '/workspace/extension/1sec_wav_files'\n",
    "output_dir = '/workspace/extension/1sec_spectrogram_files'\n",
    "# Use os to get list of all files in directory\n",
    "import os\n",
    "\n",
    "file_list = os.listdir(target_dir)\n",
    "\n",
    "# Loop through all files\n",
    "for file in file_list:\n",
    "    # For each file, load in as wave then convert to spectrogram\n",
    "    audio_path = os.path.join(target_dir, file)\n",
    "    y, sr = librosa.load(audio_path, sr=44100)\n",
    "    # Define the sample rate, window length, hop length, and FFT size\n",
    "    sr = 44100  # Sample rate in Hz (change this to match your audio's sample rate)\n",
    "    window_length_ms = 25  # Window length in ms\n",
    "    hop_length_ms = 10  # Hop length in ms\n",
    "\n",
    "    # Convert window length and hop length from ms to samples\n",
    "    window_length_samples = int(sr * window_length_ms / 1000)\n",
    "    hop_length_samples = int(sr * hop_length_ms / 1000)\n",
    "\n",
    "    n_fft = window_length_samples\n",
    "\n",
    "    # Compute the STFT with a Hanning window\n",
    "    D = librosa.stft(y, n_fft=n_fft, hop_length=hop_length_samples, win_length=window_length_samples, window='hann')\n",
    "\n",
    "    # Save the spectrogram in output\n",
    "    np.save(os.path.join(output_dir, file), D)\n",
    "    #print(os.path.join(output_dir, file))\n",
    "\n",
    "    \n"
   ]
  },
  {
   "cell_type": "code",
   "execution_count": null,
   "metadata": {},
   "outputs": [],
   "source": []
  }
 ],
 "metadata": {
  "kernelspec": {
   "display_name": "Python 3 (ipykernel)",
   "language": "python",
   "name": "python3"
  },
  "language_info": {
   "codemirror_mode": {
    "name": "ipython",
    "version": 3
   },
   "file_extension": ".py",
   "mimetype": "text/x-python",
   "name": "python",
   "nbconvert_exporter": "python",
   "pygments_lexer": "ipython3",
   "version": "3.8.13"
  }
 },
 "nbformat": 4,
 "nbformat_minor": 2
}
