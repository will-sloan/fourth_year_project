{
 "cells": [
  {
   "cell_type": "code",
   "execution_count": 31,
   "metadata": {},
   "outputs": [],
   "source": [
    "\n",
    "from pysofaconventions import *\n",
    "import numpy as np\n",
    "def printLine():\n",
    "    print(\"-----------------------------------------------------------------------\\n\")\n",
    "\n",
    "def printBlankLine():\n",
    "    print(\"\")\n"
   ]
  },
  {
   "cell_type": "code",
   "execution_count": 33,
   "metadata": {},
   "outputs": [
    {
     "name": "stdout",
     "output_type": "stream",
     "text": [
      "Sampling rate: [48000.] Hz\n"
     ]
    }
   ],
   "source": [
    "from matplotlib import pyplot as plt\n",
    "import numpy as np\n",
    "aaapath = '/workspace/fourth_year_project/HRTF Models/sofa_hrtfs/RIEC_hrir_subject_001.sofa'\n",
    "aaasofa = SOFAFile(aaapath, 'r')\n",
    "\n",
    "sampling_rate = aaasofa.getSamplingRate()\n",
    "\n",
    "print(f'Sampling rate: {sampling_rate} Hz')\n",
    "\n",
    "# aaasourcePositions = aaasofa.getVariableValue('SourcePosition')\n",
    "\n",
    "# print(\"\\n\")\n",
    "# print(\"Source Positions\")\n",
    "# print(sourcePositions)\n",
    "# and the info (units, coordinates)\n",
    "# print(sofa.getPositionVariableInfo('SourcePosition'))\n",
    "\n",
    "# Let's inspect the first measurement\n",
    "# m = 0\n",
    "# print(\"\\n\")\n",
    "# print(\"Source Position of measurement \" + str(m))\n",
    "# print(sourcePositions[m])\n",
    "# which is at 82 degrees azimuth, -7 degrees elevation\n",
    "\n",
    "# Read the data\n",
    "# aaadata = aaasofa.getDataIR()\n",
    "# and get the HRTF associated with m=0\n",
    "\n",
    "# angle, elevation, distance\n",
    "# hrtf = data[m,:,:]\n",
    "# aaadata.shape\n"
   ]
  },
  {
   "cell_type": "code",
   "execution_count": 6,
   "metadata": {},
   "outputs": [
    {
     "data": {
      "text/plain": [
       "masked_array(data=[  0.,   5.,  10.,  15.,  20.,  25.,  30.,  35.,  40.,\n",
       "                    45.,  50.,  55.,  60.,  65.,  70.,  75.,  80.,  85.,\n",
       "                    90.,  95., 100., 105., 110., 115., 120., 125., 130.,\n",
       "                   135., 140., 145., 150., 155., 160., 165., 170., 175.,\n",
       "                   180., 185., 190., 195., 200., 205., 210., 215., 220.,\n",
       "                   225., 230., 235., 240., 245., 250., 255., 260., 265.,\n",
       "                   270., 275., 280., 285., 290., 295., 300., 305., 310.,\n",
       "                   315., 320., 325., 330., 335., 340., 345., 350., 355.,\n",
       "                     0.,   5.,  10.,  15.,  20.,  25.,  30.,  35.,  40.,\n",
       "                    45.,  50.,  55.,  60.,  65.,  70.,  75.,  80.,  85.,\n",
       "                    90.,  95., 100., 105., 110., 115., 120., 125., 130.,\n",
       "                   135., 140., 145., 150., 155., 160., 165., 170., 175.,\n",
       "                   180., 185., 190., 195., 200., 205., 210., 215., 220.,\n",
       "                   225., 230., 235., 240., 245., 250., 255., 260., 265.,\n",
       "                   270., 275., 280., 285., 290., 295., 300., 305., 310.,\n",
       "                   315., 320., 325., 330., 335., 340., 345., 350., 355.,\n",
       "                     0.,   5.,  10.,  15.,  20.,  25.,  30.,  35.,  40.,\n",
       "                    45.,  50.,  55.,  60.,  65.,  70.,  75.,  80.,  85.,\n",
       "                    90.,  95., 100., 105., 110., 115., 120., 125., 130.,\n",
       "                   135., 140., 145., 150., 155., 160., 165., 170., 175.,\n",
       "                   180., 185., 190., 195., 200., 205., 210., 215., 220.,\n",
       "                   225., 230., 235., 240., 245., 250., 255., 260., 265.,\n",
       "                   270., 275., 280., 285., 290., 295., 300., 305., 310.,\n",
       "                   315., 320., 325., 330., 335., 340., 345., 350., 355.,\n",
       "                     0.,   5.,  10.,  15.,  20.,  25.,  30.,  35.,  40.,\n",
       "                    45.,  50.,  55.,  60.,  65.,  70.,  75.,  80.,  85.,\n",
       "                    90.,  95., 100., 105., 110., 115., 120., 125., 130.,\n",
       "                   135., 140., 145., 150., 155., 160., 165., 170., 175.,\n",
       "                   180., 185., 190., 195., 200., 205., 210., 215., 220.,\n",
       "                   225., 230., 235., 240., 245., 250., 255., 260., 265.,\n",
       "                   270., 275., 280., 285., 290., 295., 300., 305., 310.,\n",
       "                   315., 320., 325., 330., 335., 340., 345., 350., 355.,\n",
       "                     0.,   5.,  10.,  15.,  20.,  25.,  30.,  35.,  40.,\n",
       "                    45.,  50.,  55.,  60.,  65.,  70.,  75.,  80.,  85.,\n",
       "                    90.,  95., 100., 105., 110., 115., 120., 125., 130.,\n",
       "                   135., 140., 145., 150., 155., 160., 165., 170., 175.,\n",
       "                   180., 185., 190., 195., 200., 205., 210., 215., 220.,\n",
       "                   225., 230., 235., 240., 245., 250., 255., 260., 265.,\n",
       "                   270., 275., 280., 285., 290., 295., 300., 305., 310.,\n",
       "                   315., 320., 325., 330., 335., 340., 345., 350., 355.,\n",
       "                     0.,   5.,  10.,  15.,  20.,  25.,  30.,  35.,  40.,\n",
       "                    45.,  50.,  55.,  60.,  65.,  70.,  75.,  80.,  85.,\n",
       "                    90.,  95., 100., 105., 110., 115., 120., 125., 130.,\n",
       "                   135., 140., 145., 150., 155., 160., 165., 170., 175.,\n",
       "                   180., 185., 190., 195., 200., 205., 210., 215., 220.,\n",
       "                   225., 230., 235., 240., 245., 250., 255., 260., 265.,\n",
       "                   270., 275., 280., 285., 290., 295., 300., 305., 310.,\n",
       "                   315., 320., 325., 330., 335., 340., 345., 350., 355.,\n",
       "                     0.,   5.,  10.,  15.,  20.,  25.,  30.,  35.,  40.,\n",
       "                    45.,  50.,  55.,  60.,  65.,  70.,  75.,  80.,  85.,\n",
       "                    90.,  95., 100., 105., 110., 115., 120., 125., 130.,\n",
       "                   135., 140., 145., 150., 155., 160., 165., 170., 175.,\n",
       "                   180., 185., 190., 195., 200., 205., 210., 215., 220.,\n",
       "                   225., 230., 235., 240., 245., 250., 255., 260., 265.,\n",
       "                   270., 275., 280., 285., 290., 295., 300., 305., 310.,\n",
       "                   315., 320., 325., 330., 335., 340., 345., 350., 355.,\n",
       "                     0.,   5.,  10.,  15.,  20.,  25.,  30.,  35.,  40.,\n",
       "                    45.,  50.,  55.,  60.,  65.,  70.,  75.,  80.,  85.,\n",
       "                    90.,  95., 100., 105., 110., 115., 120., 125., 130.,\n",
       "                   135., 140., 145., 150., 155., 160., 165., 170., 175.,\n",
       "                   180., 185., 190., 195., 200., 205., 210., 215., 220.,\n",
       "                   225., 230., 235., 240., 245., 250., 255., 260., 265.,\n",
       "                   270., 275., 280., 285., 290., 295., 300., 305., 310.,\n",
       "                   315., 320., 325., 330., 335., 340., 345., 350., 355.,\n",
       "                     0.,   5.,  10.,  15.,  20.,  25.,  30.,  35.,  40.,\n",
       "                    45.,  50.,  55.,  60.,  65.,  70.,  75.,  80.,  85.,\n",
       "                    90.,  95., 100., 105., 110., 115., 120., 125., 130.,\n",
       "                   135., 140., 145., 150., 155., 160., 165., 170., 175.,\n",
       "                   180., 185., 190., 195., 200., 205., 210., 215., 220.,\n",
       "                   225., 230., 235., 240., 245., 250., 255., 260., 265.,\n",
       "                   270., 275., 280., 285., 290., 295., 300., 305., 310.,\n",
       "                   315., 320., 325., 330., 335., 340., 345., 350., 355.,\n",
       "                     0.,   5.,  10.,  15.,  20.,  25.,  30.,  35.,  40.,\n",
       "                    45.,  50.,  55.,  60.,  65.,  70.,  75.,  80.,  85.,\n",
       "                    90.,  95., 100., 105., 110., 115., 120., 125., 130.,\n",
       "                   135., 140., 145., 150., 155., 160., 165., 170., 175.,\n",
       "                   180., 185., 190., 195., 200., 205., 210., 215., 220.,\n",
       "                   225., 230., 235., 240., 245., 250., 255., 260., 265.,\n",
       "                   270., 275., 280., 285., 290., 295., 300., 305., 310.,\n",
       "                   315., 320., 325., 330., 335., 340., 345., 350., 355.,\n",
       "                     0.,   5.,  10.,  15.,  20.,  25.,  30.,  35.,  40.,\n",
       "                    45.,  50.,  55.,  60.,  65.,  70.,  75.,  80.,  85.,\n",
       "                    90.,  95., 100., 105., 110., 115., 120., 125., 130.,\n",
       "                   135., 140., 145., 150., 155., 160., 165., 170., 175.,\n",
       "                   180., 185., 190., 195., 200., 205., 210., 215., 220.,\n",
       "                   225., 230., 235., 240., 245., 250., 255., 260., 265.,\n",
       "                   270., 275., 280., 285., 290., 295., 300., 305., 310.,\n",
       "                   315., 320., 325., 330., 335., 340., 345., 350., 355.,\n",
       "                     0.,   5.,  10.,  15.,  20.,  25.,  30.,  35.,  40.,\n",
       "                    45.,  50.,  55.,  60.,  65.,  70.,  75.,  80.,  85.,\n",
       "                    90.,  95., 100., 105., 110., 115., 120., 125., 130.,\n",
       "                   135., 140., 145., 150., 155., 160., 165., 170., 175.,\n",
       "                   180., 185., 190., 195., 200., 205., 210., 215., 220.,\n",
       "                   225., 230., 235., 240., 245., 250., 255., 260., 265.,\n",
       "                   270., 275., 280., 285., 290., 295., 300., 305., 310.,\n",
       "                   315., 320., 325., 330., 335., 340., 345., 350., 355.,\n",
       "                     0.],\n",
       "             mask=False,\n",
       "       fill_value=1e+20)"
      ]
     },
     "execution_count": 6,
     "metadata": {},
     "output_type": "execute_result"
    }
   ],
   "source": [
    "aaasourcePositions[:, 0]"
   ]
  },
  {
   "cell_type": "code",
   "execution_count": 7,
   "metadata": {},
   "outputs": [
    {
     "name": "stdout",
     "output_type": "stream",
     "text": [
      "[216 217 218 219 220 221 222 223 224 225 226 227 228 229 230 231 232 233\n",
      " 234 235 236 237 238 239 240 241 242 243 244 245 246 247 248 249 250 251\n",
      " 252 253 254 255 256 257 258 259 260 261 262 263 264 265 266 267 268 269\n",
      " 270 271 272 273 274 275 276 277 278 279 280 281 282 283 284 285 286 287]\n",
      "[  0.   5.  10.  15.  20.  25.  30.  35.  40.  45.  50.  55.  60.  65.\n",
      "  70.  75.  80.  85.  90.  95. 100. 105. 110. 115. 120. 125. 130. 135.\n",
      " 140. 145. 150. 155. 160. 165. 170. 175. 180. 185. 190. 195. 200. 205.\n",
      " 210. 215. 220. 225. 230. 235. 240. 245. 250. 255. 260. 265. 270. 275.\n",
      " 280. 285. 290. 295. 300. 305. 310. 315. 320. 325. 330. 335. 340. 345.\n",
      " 350. 355.]\n"
     ]
    }
   ],
   "source": [
    "# Get indexes of the source positions when the elevation is 0\n",
    "i = np.where(sourcePositions[:,1] == 0)[0]\n",
    "print(i)\n",
    "angles=  sourcePositions[i, 0]\n",
    "print(angles)"
   ]
  },
  {
   "cell_type": "code",
   "execution_count": 37,
   "metadata": {},
   "outputs": [
    {
     "data": {
      "text/plain": [
       "(72, 2, 512)"
      ]
     },
     "execution_count": 37,
     "metadata": {},
     "output_type": "execute_result"
    }
   ],
   "source": [
    "# Get all hrirs in data at i\n",
    "hrirs = data[i,:,:]\n",
    "hrirs.shape"
   ]
  },
  {
   "cell_type": "code",
   "execution_count": 40,
   "metadata": {},
   "outputs": [
    {
     "data": {
      "text/plain": [
       "(array([  0,  72, 144, 216, 288, 360, 432, 504, 576, 648, 720, 792, 864],\n",
       "       dtype=int64),\n",
       " array([216], dtype=int64))"
      ]
     },
     "execution_count": 40,
     "metadata": {},
     "output_type": "execute_result"
    }
   ],
   "source": [
    "# Get indexes where elevatio is 0 and azimuth is 0\n",
    "ii = np.where(sourcePositions[:,0] == 0)[0]\n",
    "# Get overlap between i and ii\n",
    "iii = np.intersect1d(i, ii)\n",
    "ii,iii"
   ]
  },
  {
   "cell_type": "code",
   "execution_count": 1,
   "metadata": {},
   "outputs": [],
   "source": [
    "import sys\n",
    "sys.path.append('/workspace/fourth_year_project/HRTF Models/')\n",
    "\n",
    "from HRIRDataset import HRIRDataset\n",
    "from MainModel import MainModel\n",
    "import matplotlib.pyplot as plt"
   ]
  },
  {
   "cell_type": "code",
   "execution_count": 2,
   "metadata": {},
   "outputs": [],
   "source": [
    "sofa_file = '/workspace/fourth_year_project/HRTF Models/sofa_hrtfs/RIEC_hrir_subject_001.sofa'\n",
    "hrir_dataset = HRIRDataset()\n",
    "for i in range(1,100):\n",
    "    hrir_dataset.load(sofa_file.replace('001', str(i).zfill(3)))\n",
    "\n"
   ]
  },
  {
   "cell_type": "code",
   "execution_count": 3,
   "metadata": {},
   "outputs": [
    {
     "data": {
      "text/plain": [
       "7128"
      ]
     },
     "execution_count": 3,
     "metadata": {},
     "output_type": "execute_result"
    }
   ],
   "source": [
    "len(hrir_dataset)"
   ]
  },
  {
   "cell_type": "code",
   "execution_count": 13,
   "metadata": {},
   "outputs": [
    {
     "name": "stderr",
     "output_type": "stream",
     "text": [
      "/workspace/venv_work/lib/python3.8/site-packages/torch/nn/modules/transformer.py:282: UserWarning: enable_nested_tensor is True, but self.use_nested_tensor is False because encoder_layer.self_attn.batch_first was not True(use batch_first for better inference performance)\n",
      "  warnings.warn(f\"enable_nested_tensor is True, but self.use_nested_tensor is False because {why_not_sparsity_fast_path}\")\n"
     ]
    }
   ],
   "source": [
    "from torch.utils.data import DataLoader\n",
    "import torch\n",
    "model = MainModel()\n",
    "# Set the model to training mode\n",
    "model.train()\n",
    "num_epochs = 100\n",
    "\n",
    "# Create the DataLoader\n",
    "#dataloader = DataLoader(hrir_dataset, batch_size=32, shuffle=True)\n",
    "device = torch.device('cuda')\n",
    "model = model.to(device)\n",
    "\n",
    "# Split the dataset into a training, validation and test set\n",
    "# 0.8, 0.1, 0.1 respectively\n",
    "train_size = int(0.7 * len(hrir_dataset))\n",
    "val_size = int(0.2 * len(hrir_dataset))\n",
    "test_size = len(hrir_dataset) - train_size - val_size\n",
    "train_dataset, val_dataset, test_dataset = torch.utils.data.random_split(hrir_dataset, [train_size, val_size, test_size])\n",
    "\n"
   ]
  },
  {
   "cell_type": "code",
   "execution_count": 14,
   "metadata": {},
   "outputs": [
    {
     "data": {
      "text/plain": [
       "<All keys matched successfully>"
      ]
     },
     "execution_count": 14,
     "metadata": {},
     "output_type": "execute_result"
    }
   ],
   "source": [
    "# model.load_state_dict(torch.load('/workspace/fourth_year_project/HRTF Models/WorkingModelWeights.pth'))\n",
    "model.load_state_dict(torch.load('/workspace/model_26_before_it_fucks_up.pth')['model_state_dict'])"
   ]
  },
  {
   "cell_type": "code",
   "execution_count": 15,
   "metadata": {},
   "outputs": [],
   "source": [
    "batch_size = 32\n",
    "\n",
    "dataloader = DataLoader(train_dataset, batch_size=batch_size, shuffle=True, num_workers=6)\n",
    "val_loader = DataLoader(val_dataset, batch_size=batch_size, shuffle=True, num_workers=6)\n",
    "test_loader = DataLoader(test_dataset, batch_size=batch_size, shuffle=True, num_workers=6)"
   ]
  },
  {
   "cell_type": "code",
   "execution_count": 16,
   "metadata": {},
   "outputs": [
    {
     "name": "stdout",
     "output_type": "stream",
     "text": [
      "Epoch 1 | Training Loss: 0.0002764457642884974 | Validation Loss: 0.00011712873321876192 | Learning Rate: [0.001]\n",
      "Epoch 2 | Training Loss: 0.00011309190090625469 | Validation Loss: 0.00011465912897205144 | Learning Rate: [0.001]\n",
      "Epoch 3 | Training Loss: 0.00011222657426858706 | Validation Loss: 0.0001142969982404458 | Learning Rate: [0.001]\n",
      "Epoch 4 | Training Loss: 0.00011133743776913862 | Validation Loss: 0.00011250013795991739 | Learning Rate: [0.001]\n",
      "Epoch 5 | Training Loss: 9.724573132548968e-05 | Validation Loss: 6.227160877499141e-05 | Learning Rate: [0.001]\n",
      "Epoch 6 | Training Loss: 5.3021981587902675e-05 | Validation Loss: 3.8652800374844094e-05 | Learning Rate: [0.001]\n",
      "Epoch 7 | Training Loss: 3.768209552145579e-05 | Validation Loss: 3.795902073187263e-05 | Learning Rate: [0.001]\n",
      "Epoch 8 | Training Loss: 3.720685689799498e-05 | Validation Loss: 3.753273506861246e-05 | Learning Rate: [0.001]\n",
      "Epoch 9 | Training Loss: 3.693974032032228e-05 | Validation Loss: 3.722275407135225e-05 | Learning Rate: [0.001]\n",
      "Epoch 10 | Training Loss: 3.6694722154526246e-05 | Validation Loss: 3.707200464416753e-05 | Learning Rate: [0.001]\n",
      "Epoch 11 | Training Loss: 3.657192865445968e-05 | Validation Loss: 3.700176294762314e-05 | Learning Rate: [0.001]\n",
      "Epoch 12 | Training Loss: 3.655740051698496e-05 | Validation Loss: 3.709367349776521e-05 | Learning Rate: [0.001]\n",
      "Epoch 13 | Training Loss: 3.6593240242034023e-05 | Validation Loss: 3.676076468668486e-05 | Learning Rate: [0.001]\n",
      "Epoch 14 | Training Loss: 3.6480541063420734e-05 | Validation Loss: 3.692552921149814e-05 | Learning Rate: [0.001]\n",
      "Epoch 15 | Training Loss: 3.6223124210829334e-05 | Validation Loss: 3.657842851488998e-05 | Learning Rate: [0.001]\n",
      "Epoch 16 | Training Loss: 3.616552795786586e-05 | Validation Loss: 3.7065533259393354e-05 | Learning Rate: [0.001]\n",
      "Epoch 17 | Training Loss: 3.605502025276724e-05 | Validation Loss: 3.683208402148203e-05 | Learning Rate: [0.001]\n",
      "Epoch 18 | Training Loss: 3.5953525739698995e-05 | Validation Loss: 3.642510336807422e-05 | Learning Rate: [0.001]\n",
      "Epoch 19 | Training Loss: 3.582758479074949e-05 | Validation Loss: 3.6553159895304e-05 | Learning Rate: [0.001]\n",
      "Epoch 20 | Training Loss: 3.5947549146484145e-05 | Validation Loss: 3.6392261176125e-05 | Learning Rate: [0.001]\n",
      "Epoch 21 | Training Loss: 3.574257321951817e-05 | Validation Loss: 3.628877326519343e-05 | Learning Rate: [0.001]\n",
      "Epoch 22 | Training Loss: 3.564388585810979e-05 | Validation Loss: 3.627933071632134e-05 | Learning Rate: [0.001]\n",
      "Epoch 23 | Training Loss: 3.5650338263075976e-05 | Validation Loss: 3.605003415590577e-05 | Learning Rate: [0.001]\n",
      "Epoch 24 | Training Loss: 3.5503940255616193e-05 | Validation Loss: 3.597325383963292e-05 | Learning Rate: [0.001]\n",
      "Epoch 25 | Training Loss: 3.568447282684171e-05 | Validation Loss: 3.590153383189126e-05 | Learning Rate: [0.001]\n",
      "Epoch 26 | Training Loss: 3.568137310847407e-05 | Validation Loss: 3.6509629919013956e-05 | Learning Rate: [0.001]\n",
      "Epoch 27 | Training Loss: 3.5393786965052665e-05 | Validation Loss: 3.6211945729232146e-05 | Learning Rate: [0.001]\n",
      "Epoch 28 | Training Loss: 3.558410451359006e-05 | Validation Loss: 3.600280699238443e-05 | Learning Rate: [0.001]\n",
      "Epoch 29 | Training Loss: 3.5273353319531495e-05 | Validation Loss: 3.5880076364009526e-05 | Learning Rate: [0.001]\n",
      "Epoch 30 | Training Loss: 3.529211921739848e-05 | Validation Loss: 3.5833920098906544e-05 | Learning Rate: [0.0001]\n",
      "Epoch 31 | Training Loss: 3.516165853516656e-05 | Validation Loss: 3.571377989525596e-05 | Learning Rate: [0.0001]\n",
      "Epoch 32 | Training Loss: 3.513826330234016e-05 | Validation Loss: 3.5676311930282075e-05 | Learning Rate: [0.0001]\n",
      "Epoch 33 | Training Loss: 3.509418366394383e-05 | Validation Loss: 3.569476335031683e-05 | Learning Rate: [0.0001]\n",
      "Epoch 34 | Training Loss: 3.504913180943681e-05 | Validation Loss: 3.563554569457968e-05 | Learning Rate: [0.0001]\n",
      "Epoch 35 | Training Loss: 3.5031810800955046e-05 | Validation Loss: 3.586840435960575e-05 | Learning Rate: [0.0001]\n",
      "Epoch 36 | Training Loss: 3.503104419591035e-05 | Validation Loss: 3.5917548536273995e-05 | Learning Rate: [0.0001]\n",
      "Epoch 37 | Training Loss: 3.5012542618459886e-05 | Validation Loss: 3.566820754489878e-05 | Learning Rate: [0.0001]\n",
      "Epoch 38 | Training Loss: 3.4998590292307885e-05 | Validation Loss: 3.560287248866077e-05 | Learning Rate: [0.0001]\n",
      "Epoch 39 | Training Loss: 3.4970823429636155e-05 | Validation Loss: 3.564074231115611e-05 | Learning Rate: [0.0001]\n",
      "Epoch 40 | Training Loss: 3.496368499330864e-05 | Validation Loss: 3.5632910051693516e-05 | Learning Rate: [0.0001]\n",
      "Epoch 41 | Training Loss: 3.497151702134311e-05 | Validation Loss: 3.564253649592661e-05 | Learning Rate: [0.0001]\n",
      "Epoch 42 | Training Loss: 3.497279032121759e-05 | Validation Loss: 3.5496913468497885e-05 | Learning Rate: [0.0001]\n",
      "Epoch 43 | Training Loss: 3.496891266895403e-05 | Validation Loss: 3.5588191332001436e-05 | Learning Rate: [0.0001]\n",
      "Epoch 44 | Training Loss: 3.496918204126816e-05 | Validation Loss: 3.573873472449027e-05 | Learning Rate: [0.0001]\n",
      "Epoch 45 | Training Loss: 3.496658310245989e-05 | Validation Loss: 3.569117056924784e-05 | Learning Rate: [0.0001]\n",
      "Epoch 46 | Training Loss: 3.4972206412858055e-05 | Validation Loss: 3.55442006778168e-05 | Learning Rate: [0.0001]\n",
      "Epoch 47 | Training Loss: 3.494060433152925e-05 | Validation Loss: 3.556362095926153e-05 | Learning Rate: [0.0001]\n",
      "Epoch 48 | Training Loss: 3.494991101197619e-05 | Validation Loss: 3.5535827924481086e-05 | Learning Rate: [0.0001]\n",
      "Epoch 49 | Training Loss: 3.4975649730266364e-05 | Validation Loss: 3.553860910694327e-05 | Learning Rate: [0.0001]\n",
      "Epoch 50 | Training Loss: 3.497764576651346e-05 | Validation Loss: 3.558044656784388e-05 | Learning Rate: [0.0001]\n",
      "Epoch 51 | Training Loss: 3.499936288262619e-05 | Validation Loss: 3.5726379014943775e-05 | Learning Rate: [0.0001]\n",
      "Epoch 52 | Training Loss: 3.503882009304551e-05 | Validation Loss: 3.5471831848681497e-05 | Learning Rate: [0.0001]\n",
      "Epoch 53 | Training Loss: 3.504522357744199e-05 | Validation Loss: 3.567841725031796e-05 | Learning Rate: [0.0001]\n",
      "Epoch 54 | Training Loss: 3.506381990422384e-05 | Validation Loss: 3.546678211964797e-05 | Learning Rate: [0.0001]\n",
      "Epoch 55 | Training Loss: 3.499425772424824e-05 | Validation Loss: 3.56415731897741e-05 | Learning Rate: [0.0001]\n",
      "Epoch 56 | Training Loss: 3.501205712293253e-05 | Validation Loss: 3.538598931443535e-05 | Learning Rate: [0.0001]\n",
      "Epoch 57 | Training Loss: 3.496323228261336e-05 | Validation Loss: 3.553993836568113e-05 | Learning Rate: [0.0001]\n",
      "Epoch 58 | Training Loss: 3.497908665404907e-05 | Validation Loss: 3.542899468652251e-05 | Learning Rate: [0.0001]\n",
      "Epoch 59 | Training Loss: 3.493952092700234e-05 | Validation Loss: 3.546623901153604e-05 | Learning Rate: [0.0001]\n",
      "Epoch 60 | Training Loss: 3.496665241729523e-05 | Validation Loss: 3.548602214115754e-05 | Learning Rate: [1e-05]\n",
      "Epoch 61 | Training Loss: 3.489031617931602e-05 | Validation Loss: 3.543287630013206e-05 | Learning Rate: [1e-05]\n",
      "Epoch 62 | Training Loss: 3.488722039279479e-05 | Validation Loss: 3.541754293173813e-05 | Learning Rate: [1e-05]\n",
      "Epoch 63 | Training Loss: 3.488395021663481e-05 | Validation Loss: 3.540850240377742e-05 | Learning Rate: [1e-05]\n",
      "Epoch 64 | Training Loss: 3.4873850178253525e-05 | Validation Loss: 3.5519941440342286e-05 | Learning Rate: [1e-05]\n",
      "Epoch 65 | Training Loss: 3.488255323277289e-05 | Validation Loss: 3.539766274850096e-05 | Learning Rate: [1e-05]\n",
      "Epoch 66 | Training Loss: 3.486836496083483e-05 | Validation Loss: 3.5487037037678975e-05 | Learning Rate: [1e-05]\n",
      "Epoch 67 | Training Loss: 3.4866946766003264e-05 | Validation Loss: 3.552378208392806e-05 | Learning Rate: [1e-05]\n",
      "Epoch 68 | Training Loss: 3.48523431884132e-05 | Validation Loss: 3.5465585043359746e-05 | Learning Rate: [1e-05]\n",
      "Epoch 69 | Training Loss: 3.4835279651701536e-05 | Validation Loss: 3.5446660772880964e-05 | Learning Rate: [1e-05]\n",
      "Epoch 70 | Training Loss: 3.486372568542098e-05 | Validation Loss: 3.5451224090106656e-05 | Learning Rate: [1e-05]\n",
      "Epoch 71 | Training Loss: 3.485734432203574e-05 | Validation Loss: 3.5493693665781045e-05 | Learning Rate: [1e-05]\n",
      "Epoch 72 | Training Loss: 3.485199107231651e-05 | Validation Loss: 3.543872447488339e-05 | Learning Rate: [1e-05]\n",
      "Epoch 73 | Training Loss: 3.484385495038065e-05 | Validation Loss: 3.5331995030374906e-05 | Learning Rate: [1e-05]\n",
      "Epoch 74 | Training Loss: 3.4832636447536384e-05 | Validation Loss: 3.545570599830203e-05 | Learning Rate: [1e-05]\n",
      "Epoch 75 | Training Loss: 3.4834746460660494e-05 | Validation Loss: 3.538212849219379e-05 | Learning Rate: [1e-05]\n",
      "Epoch 76 | Training Loss: 3.482073893698519e-05 | Validation Loss: 3.545394273507491e-05 | Learning Rate: [1e-05]\n",
      "Epoch 77 | Training Loss: 3.4825634844130735e-05 | Validation Loss: 3.557837886833831e-05 | Learning Rate: [1e-05]\n",
      "Epoch 78 | Training Loss: 3.482397886009551e-05 | Validation Loss: 3.5319925048960404e-05 | Learning Rate: [1e-05]\n",
      "Epoch 79 | Training Loss: 3.4821764168852787e-05 | Validation Loss: 3.5445181563039096e-05 | Learning Rate: [1e-05]\n",
      "Epoch 80 | Training Loss: 3.482343301014244e-05 | Validation Loss: 3.547407764320572e-05 | Learning Rate: [1e-05]\n",
      "Epoch 81 | Training Loss: 3.481428922714222e-05 | Validation Loss: 3.546765041455888e-05 | Learning Rate: [1e-05]\n",
      "Epoch 82 | Training Loss: 3.483410540635525e-05 | Validation Loss: 3.5450650387231194e-05 | Learning Rate: [1e-05]\n",
      "Epoch 83 | Training Loss: 3.4819530798422834e-05 | Validation Loss: 3.550490058076225e-05 | Learning Rate: [1e-05]\n",
      "Epoch 84 | Training Loss: 3.4836752367358806e-05 | Validation Loss: 3.5317555527415194e-05 | Learning Rate: [1e-05]\n",
      "Epoch 85 | Training Loss: 3.480831307728097e-05 | Validation Loss: 3.536343435642489e-05 | Learning Rate: [1e-05]\n",
      "Epoch 86 | Training Loss: 3.479775078443478e-05 | Validation Loss: 3.545268438756466e-05 | Learning Rate: [1e-05]\n",
      "Epoch 87 | Training Loss: 3.479159341962277e-05 | Validation Loss: 3.5274445136453496e-05 | Learning Rate: [1e-05]\n",
      "Epoch 88 | Training Loss: 3.479341224276872e-05 | Validation Loss: 3.525791644821303e-05 | Learning Rate: [1e-05]\n",
      "Epoch 89 | Training Loss: 3.4787387324011376e-05 | Validation Loss: 3.556155893755587e-05 | Learning Rate: [1e-05]\n",
      "Epoch 90 | Training Loss: 3.477239031676934e-05 | Validation Loss: 3.529332986657034e-05 | Learning Rate: [1.0000000000000002e-06]\n",
      "Epoch 91 | Training Loss: 3.47776547440948e-05 | Validation Loss: 3.541650307740559e-05 | Learning Rate: [1.0000000000000002e-06]\n",
      "Epoch 92 | Training Loss: 3.476981393065872e-05 | Validation Loss: 3.5356231270717426e-05 | Learning Rate: [1.0000000000000002e-06]\n",
      "Epoch 93 | Training Loss: 3.477108161860999e-05 | Validation Loss: 3.536157563263387e-05 | Learning Rate: [1.0000000000000002e-06]\n",
      "Epoch 94 | Training Loss: 3.4775758684084705e-05 | Validation Loss: 3.542028048909024e-05 | Learning Rate: [1.0000000000000002e-06]\n",
      "Epoch 95 | Training Loss: 3.476942177273155e-05 | Validation Loss: 3.5266041461574406e-05 | Learning Rate: [1.0000000000000002e-06]\n",
      "Epoch 96 | Training Loss: 3.477177760209295e-05 | Validation Loss: 3.52683777332698e-05 | Learning Rate: [1.0000000000000002e-06]\n",
      "Epoch 97 | Training Loss: 3.477125978842154e-05 | Validation Loss: 3.534185524474372e-05 | Learning Rate: [1.0000000000000002e-06]\n",
      "Epoch 98 | Training Loss: 3.477121938490786e-05 | Validation Loss: 3.524852185428404e-05 | Learning Rate: [1.0000000000000002e-06]\n",
      "Epoch 99 | Training Loss: 3.476706560502136e-05 | Validation Loss: 3.52665710900175e-05 | Learning Rate: [1.0000000000000002e-06]\n",
      "Epoch 100 | Training Loss: 3.476683390609611e-05 | Validation Loss: 3.544927717660341e-05 | Learning Rate: [1.0000000000000002e-06]\n"
     ]
    }
   ],
   "source": [
    "import torch\n",
    "from torch import optim, nn\n",
    "from torch.optim.lr_scheduler import StepLR\n",
    "\n",
    "# learning_rate = 0.01\n",
    "# Define the optimizer and loss function\n",
    "# optimizer = optim.Adam(model.parameters(), lr=learning_rate)\n",
    "optimizer = optim.Adam(model.parameters())\n",
    "loss_function = nn.MSELoss()\n",
    "scheduler = StepLR(optimizer, step_size=30, gamma=0.1)\n",
    "\n",
    "# Set the model to training mode\n",
    "model.train()\n",
    "\n",
    "# myshape = (32, 2, 512)\n",
    "# Create a weight tensor that has higher values for the early part of the impulse response\n",
    "# weights = torch.ones(myshape)\n",
    "# weights[:, :200] *= 2  # Increase the weight for the first 200 samples\n",
    "# # move to cuda\n",
    "# weights = weights.to(device)\n",
    "\n",
    "# Loop over each epoch\n",
    "for epoch in range(num_epochs):\n",
    "    # Initialize the epoch loss\n",
    "    epoch_loss = 0.0\n",
    "\n",
    "    # Loop over each batch\n",
    "    for i, batch in enumerate(dataloader):\n",
    "        # Get the src and tgt sequences from the batch\n",
    "        #print(batch)\n",
    "        src, tgt, angle = batch\n",
    "\n",
    "\n",
    "        # Move data to the same device as the model\n",
    "        src = src.to(device)\n",
    "        tgt = tgt.to(device)\n",
    "        angle = angle.to(device)\n",
    "        # print(src.shape, tgt.shape, angle.shape)\n",
    "        # convert to floats\n",
    "        angle = angle.float()\n",
    "        src = src.float()\n",
    "        tgt = tgt.float()\n",
    "\n",
    "        # Zero the gradients\n",
    "        optimizer.zero_grad()\n",
    "\n",
    "        # src = (src - src.mean()) / src.std()\n",
    "        # tgt = (tgt - tgt.mean()) / tgt.std()\n",
    "\n",
    "        # print(src.mean(), src.std(), tgt.mean(), tgt.std())\n",
    "        # print(tgt)\n",
    "        # break\n",
    "\n",
    "        # Forward pass through the model\n",
    "        output = model(src, angle, tgt)\n",
    "        \n",
    "        # remove the last feature dimension from output\n",
    "        # [batch_size, d_model, seq_length] --> [batch_size, d_model-1, seq_length]\n",
    "        output = output[:, :-1, :]\n",
    "        #print(output.shape, tgt.shape)\n",
    "        # Compute the loss\n",
    "        #print(\"Before loss training: \", output.shape, tgt.shape)\n",
    "        loss = loss_function(output, tgt)\n",
    "        # Multiply the loss by the weights\n",
    "        # loss = loss * weights\n",
    "        # mse = (output - tgt) ** 2\n",
    "\n",
    "        # # Calculate the weighted loss\n",
    "        # weights = torch.ones(tgt.shape)\n",
    "        # weights[:, :, :300] *= 10\n",
    "        # weights = weights.to(device)\n",
    "        \n",
    "        # loss = (mse * weights).mean()\n",
    "        \n",
    "\n",
    "        # Backward pass\n",
    "        loss.backward()\n",
    "\n",
    "        # Update the weights\n",
    "        optimizer.step()\n",
    "\n",
    "        # Accumulate the batch loss\n",
    "        epoch_loss += loss.item()\n",
    "    val_loss = 0\n",
    "    scheduler.step()\n",
    "    # Validate the model\n",
    "    model.eval()\n",
    "    with torch.no_grad():\n",
    "        for i, batch in enumerate(val_loader):\n",
    "            src, tgt, angle = batch\n",
    "            src = src.to(device)\n",
    "            tgt = tgt.to(device)\n",
    "            angle = angle.to(device)\n",
    "            angle = angle.float()\n",
    "            src = src.float()\n",
    "            tgt = tgt.float()\n",
    "            # src = (src - src.mean()) / src.std()\n",
    "            # tgt = (tgt - tgt.mean()) / tgt.std()\n",
    "\n",
    "\n",
    "            output = model(src, angle, tgt)\n",
    "            # remove the last feature dimension from output\n",
    "            output = output[:, :-1, :]\n",
    "            #print(\"Before loss val: \",output.shape, tgt.shape)\n",
    "            loss = loss_function(output, tgt)\n",
    "            val_loss += loss.item()\n",
    "    # Print the average loss for this epoch\n",
    "    print(f'Epoch {epoch + 1} | Training Loss: {epoch_loss / len(train_dataset)} | Validation Loss: {val_loss / len(val_dataset)} | Learning Rate: {scheduler.get_last_lr()}')\n",
    "    if epoch % 2 == 0:\n",
    "        torch.save(model.state_dict(), f'/workspace/fourth_year_project/HRTF Models/model_{epoch}_step_scheded.pth')"
   ]
  },
  {
   "cell_type": "code",
   "execution_count": 8,
   "metadata": {},
   "outputs": [],
   "source": [
    "torch.save(model.state_dict(), '/workspace/fourth_year_project/HRTF Models/model_weights3.pth')"
   ]
  },
  {
   "cell_type": "code",
   "execution_count": 11,
   "metadata": {},
   "outputs": [],
   "source": [
    "# load in 1 sample from test set\n",
    "sample = next(iter(test_loader))\n",
    "src, tgt, angle = sample\n",
    "src = src.to(device)\n",
    "tgt = tgt.to(device)\n",
    "angle = angle.to(device)\n",
    "angle = angle.float()\n",
    "src = src.float()\n",
    "tgt = tgt.float()\n",
    "\n",
    "# Get first sample from batch\n",
    "src = src[0]\n",
    "tgt = tgt[0]\n",
    "angle = angle[0]\n",
    "\n",
    "\n",
    "# output = model(src, angle)"
   ]
  },
  {
   "cell_type": "code",
   "execution_count": 12,
   "metadata": {},
   "outputs": [],
   "source": [
    "# src_norm = (src - src.mean()) / src.std()\n",
    "# tgt_norm = (tgt - tgt.mean()) / tgt.std()"
   ]
  },
  {
   "cell_type": "code",
   "execution_count": 13,
   "metadata": {},
   "outputs": [
    {
     "data": {
      "text/plain": [
       "[<matplotlib.lines.Line2D at 0x7f74e13be220>]"
      ]
     },
     "execution_count": 13,
     "metadata": {},
     "output_type": "execute_result"
    },
    {
     "data": {
      "image/png": "[encoded data removed]",
      "text/plain": [
       "<Figure size 640x480 with 1 Axes>"
      ]
     },
     "metadata": {},
     "output_type": "display_data"
    }
   ],
   "source": [
    "# plot src\n",
    "# plt.figure()\n",
    "plt.plot(src[0].cpu().detach().numpy())"
   ]
  },
  {
   "cell_type": "code",
   "execution_count": 15,
   "metadata": {},
   "outputs": [
    {
     "data": {
      "text/plain": [
       "[<matplotlib.lines.Line2D at 0x7f7524056c40>]"
      ]
     },
     "execution_count": 15,
     "metadata": {},
     "output_type": "execute_result"
    },
    {
     "data": {
      "image/png": "[encoded data removed]",
      "text/plain": [
       "<Figure size 640x480 with 1 Axes>"
      ]
     },
     "metadata": {},
     "output_type": "display_data"
    }
   ],
   "source": [
    "plt.plot(tgt[0].cpu().detach().numpy())"
   ]
  },
  {
   "cell_type": "code",
   "execution_count": 17,
   "metadata": {},
   "outputs": [
    {
     "name": "stdout",
     "output_type": "stream",
     "text": [
      "torch.Size([2, 512]) torch.Size([]) torch.Size([2, 512])\n",
      "tensor(170., device='cuda:0')\n"
     ]
    }
   ],
   "source": [
    "print(src.shape, angle.shape, tgt.shape)\n",
    "print(angle)\n",
    "\n",
    "output = model(src.unsqueeze(0), angle.unsqueeze(0), tgt.unsqueeze(0))"
   ]
  },
  {
   "cell_type": "code",
   "execution_count": 18,
   "metadata": {},
   "outputs": [
    {
     "data": {
      "text/plain": [
       "torch.Size([3, 512])"
      ]
     },
     "execution_count": 18,
     "metadata": {},
     "output_type": "execute_result"
    }
   ],
   "source": [
    "output  = output.squeeze(0)\n",
    "output.shape"
   ]
  },
  {
   "cell_type": "code",
   "execution_count": 47,
   "metadata": {},
   "outputs": [
    {
     "data": {
      "text/plain": [
       "[<matplotlib.lines.Line2D at 0x7f747e2e1550>]"
      ]
     },
     "execution_count": 47,
     "metadata": {},
     "output_type": "execute_result"
    },
    {
     "data": {
      "image/png": "[encoded data removed]",
      "text/plain": [
       "<Figure size 640x480 with 1 Axes>"
      ]
     },
     "metadata": {},
     "output_type": "display_data"
    }
   ],
   "source": [
    "plt.plot(output[0].cpu().detach().numpy())\n",
    "# plt.plot(tgt[0].cpu().detach().numpy())"
   ]
  },
  {
   "cell_type": "code",
   "execution_count": 24,
   "metadata": {},
   "outputs": [
    {
     "data": {
      "text/plain": [
       "tensor([ 7.6241e-03,  2.3933e-03,  2.2736e-03,  2.4731e-03,  2.3239e-03,\n",
       "         2.2536e-03,  2.4524e-03,  2.2028e-03,  2.5397e-03,  2.1544e-03,\n",
       "         2.5049e-03,  2.3140e-03,  2.3168e-03,  2.3491e-03,  2.1247e-03,\n",
       "         2.3283e-03,  2.0922e-03,  2.2275e-03,  2.1411e-03,  2.2610e-03,\n",
       "         2.0851e-03,  2.4350e-03,  2.0758e-03,  2.4908e-03,  2.1555e-03,\n",
       "         2.3449e-03,  2.3062e-03,  2.1160e-03,  2.4694e-03,  1.9268e-03,\n",
       "         2.4999e-03,  1.9516e-03,  2.4352e-03,  1.9945e-03,  2.3231e-03,\n",
       "         2.0635e-03,  2.3248e-03,  2.1259e-03,  2.2048e-03,  2.2412e-03,\n",
       "         2.0264e-03,  2.4333e-03,  1.7914e-03,  2.7099e-03,  1.6783e-03,\n",
       "         2.6907e-03,  1.7088e-03,  2.5253e-03,  1.9533e-03,  2.1474e-03,\n",
       "         2.2193e-03,  1.7755e-03,  2.5208e-03,  1.6316e-03,  2.8012e-03,\n",
       "         1.4397e-03,  2.7592e-03,  1.4978e-03,  2.6697e-03,  1.5764e-03,\n",
       "         2.3753e-03,  1.8712e-03,  1.8820e-03,  2.3521e-03,  1.3928e-03,\n",
       "         2.8334e-03,  1.0312e-03,  3.0797e-03,  9.1445e-04,  2.9874e-03,\n",
       "         1.0472e-03,  2.6819e-03,  1.5370e-03,  2.0562e-03,  2.2694e-03,\n",
       "         1.3297e-03,  2.8536e-03,  7.2781e-04,  3.3499e-03,  3.2288e-04,\n",
       "         3.5260e-03,  2.9652e-04,  3.3190e-03,  8.2469e-04,  2.5280e-03,\n",
       "         1.6895e-03,  1.4797e-03,  2.8530e-03,  1.5879e-04,  4.0580e-03,\n",
       "        -8.5171e-04,  4.6511e-03, -9.8698e-04,  4.5136e-03, -5.0866e-04,\n",
       "         3.4100e-03,  1.1892e-03,  1.1976e-03,  3.2495e-03, -1.5319e-03,\n",
       "         6.5894e-03, -4.8067e-03,  3.5926e-03, -1.6267e-02,  9.4175e-04,\n",
       "        -1.0706e-02, -1.1770e-01, -1.9516e-01, -1.8625e-01, -1.3633e-01,\n",
       "        -4.6798e-02,  1.3212e-01,  3.1134e-01,  3.9753e-01,  2.1867e-01,\n",
       "         8.8507e-02, -1.0156e-01, -1.7812e-01, -6.1292e-02, -6.1984e-02,\n",
       "        -6.5499e-02, -7.2845e-03,  6.2945e-02,  7.3769e-02,  8.1086e-02,\n",
       "         6.3965e-02,  1.4134e-02, -8.3531e-04,  2.6123e-03, -2.0150e-02,\n",
       "        -4.6474e-02, -1.6806e-02, -1.5122e-02,  1.4686e-02,  3.8591e-02,\n",
       "         3.9959e-02,  4.9038e-02,  3.1723e-02,  3.3737e-03, -1.4877e-02,\n",
       "        -1.8040e-02, -1.1936e-02, -1.9819e-03, -1.2883e-02, -1.2642e-02,\n",
       "        -1.0855e-02,  1.4069e-02,  2.3184e-02,  1.4929e-02,  2.0710e-02,\n",
       "         1.9383e-02,  1.2875e-02,  2.4392e-03,  2.8236e-03, -4.1760e-03,\n",
       "        -7.3504e-03, -1.1567e-02, -7.5393e-03, -4.6351e-03, -1.4239e-03,\n",
       "         4.2491e-04,  2.8460e-03,  7.1812e-03,  6.3795e-03,  9.5038e-03,\n",
       "         4.6137e-03,  2.6965e-03, -2.2760e-03, -2.1408e-03, -7.6473e-04,\n",
       "         1.9945e-03,  3.7262e-03,  4.9395e-03,  5.5094e-03,  4.0290e-03,\n",
       "         5.2431e-03,  3.1447e-03,  2.6029e-03,  2.8844e-04,  1.6433e-03,\n",
       "         1.4015e-03,  1.9018e-03,  1.7772e-03,  3.3279e-03,  4.3090e-03,\n",
       "         3.9388e-03,  4.7337e-03,  3.9779e-03,  3.9301e-03,  1.9465e-03,\n",
       "         2.2957e-03,  1.3886e-03,  2.1075e-03,  1.8198e-03,  2.1461e-03,\n",
       "         2.3330e-03,  2.6055e-03,  3.4420e-03,  3.3564e-03,  3.9125e-03,\n",
       "         3.2896e-03,  3.5934e-03,  2.8189e-03,  2.4979e-03,  1.5210e-03,\n",
       "         1.6340e-03,  1.3828e-03,  1.5658e-03,  2.0636e-03,  2.3753e-03,\n",
       "         2.6058e-03,  2.1789e-03,  2.6166e-03,  2.7101e-03,  3.5397e-03,\n",
       "         3.6688e-03,  3.9886e-03,  3.4771e-03,  2.9921e-03,  2.5790e-03,\n",
       "         2.6111e-03,  2.8952e-03,  2.6877e-03,  2.7057e-03,  2.5986e-03,\n",
       "         2.7712e-03,  2.4228e-03,  2.4734e-03,  2.3304e-03,  2.3701e-03,\n",
       "         2.2584e-03,  2.4248e-03,  2.7432e-03,  2.9363e-03,  3.1046e-03,\n",
       "         3.0411e-03,  3.2198e-03,  3.1380e-03,  3.0893e-03,  2.7735e-03,\n",
       "         2.5899e-03,  2.2641e-03,  2.2266e-03,  2.2595e-03,  2.3790e-03,\n",
       "         2.4941e-03,  2.5310e-03,  2.5782e-03,  2.5871e-03,  2.6519e-03,\n",
       "         2.6635e-03,  2.7293e-03,  2.6593e-03,  2.5977e-03,  2.5297e-03,\n",
       "         2.5200e-03,  2.5063e-03,  2.5118e-03,  2.5399e-03,  2.5710e-03,\n",
       "         2.6181e-03,  2.6440e-03,  2.6825e-03,  2.7025e-03,  2.7318e-03,\n",
       "         2.7105e-03,  2.7134e-03,  2.6904e-03,  2.6617e-03,  2.5996e-03,\n",
       "         2.5384e-03,  2.5028e-03,  2.4933e-03,  2.4943e-03,  2.4949e-03,\n",
       "         2.5129e-03,  2.5280e-03,  2.5473e-03,  2.5684e-03,  2.6124e-03,\n",
       "         2.6484e-03,  2.6731e-03,  2.6874e-03,  2.6946e-03,  2.6902e-03,\n",
       "         2.6672e-03,  2.6431e-03,  2.6114e-03,  2.5793e-03,  2.5419e-03,\n",
       "         2.5200e-03,  2.5041e-03,  2.4956e-03,  2.4954e-03,  2.5122e-03,\n",
       "         2.5365e-03,  2.5598e-03,  2.5826e-03,  2.6017e-03,  2.6181e-03,\n",
       "         2.6205e-03,  2.6219e-03,  2.6200e-03,  2.6166e-03,  2.6014e-03,\n",
       "         2.5851e-03,  2.5723e-03,  2.5594e-03,  2.5521e-03,  2.5451e-03,\n",
       "         2.5484e-03,  2.5498e-03,  2.5547e-03,  2.5558e-03,  2.5605e-03,\n",
       "         2.5638e-03,  2.5636e-03,  2.5626e-03,  2.5618e-03,  2.5595e-03,\n",
       "         2.5533e-03,  2.5516e-03,  2.5445e-03,  2.5455e-03,  2.5436e-03,\n",
       "         2.5467e-03,  2.5484e-03,  2.5546e-03,  2.5559e-03,  2.5558e-03,\n",
       "         2.5624e-03,  2.5555e-03,  2.5559e-03,  2.5532e-03,  2.5505e-03,\n",
       "         2.5387e-03,  2.5391e-03,  2.5304e-03,  2.5277e-03,  2.5275e-03,\n",
       "         2.5226e-03,  2.5247e-03,  2.5195e-03,  2.5337e-03,  2.5181e-03,\n",
       "         2.5400e-03,  2.5130e-03,  2.5130e-03,  2.5130e-03,  2.5130e-03,\n",
       "         2.5130e-03,  2.5130e-03,  2.5130e-03,  2.5130e-03,  2.5130e-03,\n",
       "         2.5130e-03,  2.5130e-03,  2.5130e-03,  2.5130e-03,  2.5130e-03,\n",
       "         2.5130e-03,  2.5130e-03,  2.5130e-03,  2.5130e-03,  2.5130e-03,\n",
       "         2.5130e-03,  2.5130e-03,  2.5130e-03,  2.5130e-03,  2.5130e-03,\n",
       "         2.5130e-03,  2.5130e-03,  2.5130e-03,  2.5130e-03,  2.5130e-03,\n",
       "         2.5130e-03,  2.5130e-03,  2.5130e-03,  2.5130e-03,  2.5130e-03,\n",
       "         2.5130e-03,  2.5130e-03,  2.5130e-03,  2.5130e-03,  2.5130e-03,\n",
       "         2.5130e-03,  2.5130e-03,  2.5130e-03,  2.5130e-03,  2.5130e-03,\n",
       "         2.5130e-03,  2.5130e-03,  2.5130e-03,  2.5130e-03,  2.5130e-03,\n",
       "         2.5130e-03,  2.5130e-03,  2.5130e-03,  2.5130e-03,  2.5130e-03,\n",
       "         2.5130e-03,  2.5130e-03,  2.5130e-03,  2.5130e-03,  2.5130e-03,\n",
       "         2.5130e-03,  2.5130e-03,  2.5130e-03,  2.5130e-03,  2.5130e-03,\n",
       "         2.5130e-03,  2.5130e-03,  2.5130e-03,  2.5130e-03,  2.5130e-03,\n",
       "         2.5130e-03,  2.5130e-03,  2.5130e-03,  2.5130e-03,  2.5130e-03,\n",
       "         2.5130e-03,  2.5130e-03,  2.5130e-03,  2.5130e-03,  2.5130e-03,\n",
       "         2.5130e-03,  2.5130e-03,  2.5130e-03,  2.5130e-03,  2.5130e-03,\n",
       "         2.5130e-03,  2.5130e-03,  2.5130e-03,  2.5130e-03,  2.5130e-03,\n",
       "         2.5130e-03,  2.5130e-03,  2.5130e-03,  2.5130e-03,  2.5130e-03,\n",
       "         2.5130e-03,  2.5130e-03,  2.5130e-03,  2.5130e-03,  2.5130e-03,\n",
       "         2.5130e-03,  2.5130e-03,  2.5130e-03,  2.5130e-03,  2.5130e-03,\n",
       "         2.5130e-03,  2.5130e-03,  2.5130e-03,  2.5130e-03,  2.5130e-03,\n",
       "         2.5130e-03,  2.5130e-03,  2.5130e-03,  2.5130e-03,  2.5130e-03,\n",
       "         2.5130e-03,  2.5130e-03,  2.5130e-03,  2.5130e-03,  2.5130e-03,\n",
       "         2.5130e-03,  2.5130e-03,  2.5130e-03,  2.5130e-03,  2.5130e-03,\n",
       "         2.5130e-03,  2.5130e-03,  2.5130e-03,  2.5130e-03,  2.5130e-03,\n",
       "         2.5130e-03,  2.5130e-03,  2.5130e-03,  2.5130e-03,  2.5130e-03,\n",
       "         2.5130e-03,  2.5130e-03,  2.5130e-03,  2.5130e-03,  2.5130e-03,\n",
       "         2.5130e-03,  2.5130e-03,  2.5130e-03,  2.5130e-03,  2.5130e-03,\n",
       "         2.5130e-03,  2.5130e-03,  2.5130e-03,  2.5130e-03,  2.5130e-03,\n",
       "         2.5130e-03,  2.5130e-03,  2.5130e-03,  2.5130e-03,  2.5130e-03,\n",
       "         2.5130e-03,  2.5130e-03,  2.5130e-03,  2.5130e-03,  2.5130e-03,\n",
       "         2.5130e-03,  2.5130e-03,  2.5130e-03,  2.5130e-03,  2.5130e-03,\n",
       "         2.5130e-03,  2.5130e-03], device='cuda:0', grad_fn=<SelectBackward0>)"
      ]
     },
     "execution_count": 24,
     "metadata": {},
     "output_type": "execute_result"
    }
   ],
   "source": [
    "output[1]"
   ]
  },
  {
   "cell_type": "code",
   "execution_count": 29,
   "metadata": {},
   "outputs": [
    {
     "data": {
      "text/plain": [
       "torch.Size([2, 512])"
      ]
     },
     "execution_count": 29,
     "metadata": {},
     "output_type": "execute_result"
    }
   ],
   "source": [
    "a = output[:-1,:]\n",
    "a.shape"
   ]
  },
  {
   "cell_type": "code",
   "execution_count": 37,
   "metadata": {},
   "outputs": [],
   "source": [
    "import numpy as np\n",
    "from scipy.io.wavfile import write\n",
    "import torch\n",
    "# Convert the tensor to a numpy array\n",
    "data = a.cpu().detach().numpy()\n",
    "\n",
    "# Transpose the data to get it in the correct shape\n",
    "data = np.transpose(data)\n",
    "data = (data * 32767).astype(np.int16)\n",
    "\n",
    "# Write the data to a .wav file\n",
    "write('/workspace/fourth_year_project/HRTF Models/hrir.wav', 48000, data)"
   ]
  },
  {
   "cell_type": "code",
   "execution_count": 39,
   "metadata": {},
   "outputs": [],
   "source": [
    "import numpy as np\n",
    "from scipy.io import wavfile\n",
    "from scipy.signal import fftconvolve\n",
    "\n",
    "# Load the HRIR and audio file\n",
    "hrir_rate, hrir_data = wavfile.read('/workspace/fourth_year_project/HRTF Models/hrir.wav')\n",
    "audio_rate, audio_data = wavfile.read('/workspace/fourth_year_project/HRTF Models/baby.wav')\n"
   ]
  },
  {
   "cell_type": "code",
   "execution_count": 52,
   "metadata": {},
   "outputs": [
    {
     "data": {
      "text/plain": [
       "(11003904, 2)"
      ]
     },
     "execution_count": 52,
     "metadata": {},
     "output_type": "execute_result"
    }
   ],
   "source": [
    "audio_data.shape"
   ]
  },
  {
   "cell_type": "code",
   "execution_count": 40,
   "metadata": {},
   "outputs": [
    {
     "data": {
      "text/plain": [
       "array([[-290,  249],\n",
       "       [ -66,   78],\n",
       "       [ -61,   74],\n",
       "       ...,\n",
       "       [ -71,   82],\n",
       "       [ -71,   82],\n",
       "       [ -71,   82]], dtype=int16)"
      ]
     },
     "execution_count": 40,
     "metadata": {},
     "output_type": "execute_result"
    }
   ],
   "source": [
    "hrir_data"
   ]
  },
  {
   "cell_type": "code",
   "execution_count": 42,
   "metadata": {},
   "outputs": [],
   "source": [
    "from scipy.signal import resample_poly\n",
    "\n",
    "# Assume hrir_data is your HRIR data and hrir_rate is its sample rate\n",
    "# Assume audio_rate is the sample rate of your audio\n",
    "\n",
    "# Calculate the greatest common divisor of the two rates\n",
    "gcd = np.gcd(hrir_rate, audio_rate)\n",
    "\n",
    "# Resample the HRIR data\n",
    "hrir_data_resampled = resample_poly(hrir_data, audio_rate // gcd, hrir_rate // gcd)"
   ]
  },
  {
   "cell_type": "code",
   "execution_count": 44,
   "metadata": {},
   "outputs": [
    {
     "data": {
      "text/plain": [
       "(471, 512)"
      ]
     },
     "execution_count": 44,
     "metadata": {},
     "output_type": "execute_result"
    }
   ],
   "source": [
    "len(hrir_data_resampled), len(hrir_data)"
   ]
  },
  {
   "cell_type": "code",
   "execution_count": 45,
   "metadata": {},
   "outputs": [],
   "source": [
    "# Perform the convolution\n",
    "output_data = fftconvolve(audio_data, hrir_data, mode='full')\n",
    "\n",
    "# Make sure to scale the output to avoid clipping\n",
    "output_data /= np.abs(output_data).max()\n",
    "\n",
    "# Save the output\n",
    "wavfile.write('/workspace/fourth_year_project/HRTF Models/output.wav', audio_rate, output_data.astype(np.int16))"
   ]
  },
  {
   "cell_type": "code",
   "execution_count": 46,
   "metadata": {},
   "outputs": [
    {
     "data": {
      "text/plain": [
       "array([[ 7.11947684e-17, -3.79574990e-17, -2.72522582e-18],\n",
       "       [ 1.01706812e-16, -5.32135208e-17, -1.79812476e-17],\n",
       "       [ 6.10240872e-17, -1.52560218e-17, -1.52560218e-17],\n",
       "       ...,\n",
       "       [ 3.30622529e-06,  1.97941596e-06, -6.69613540e-06],\n",
       "       [ 1.82081973e-06,  1.68246982e-06, -4.37185700e-06],\n",
       "       [ 6.70828320e-07,  8.54395023e-07, -1.88155871e-06]])"
      ]
     },
     "execution_count": 46,
     "metadata": {},
     "output_type": "execute_result"
    }
   ],
   "source": [
    "output_data"
   ]
  },
  {
   "cell_type": "code",
   "execution_count": 124,
   "metadata": {},
   "outputs": [],
   "source": [
    "hsample = next(iter(test_loader))\n",
    "hsrc, htgt, hangle = hsample"
   ]
  },
  {
   "cell_type": "code",
   "execution_count": 125,
   "metadata": {},
   "outputs": [],
   "source": [
    "htgt = htgt[0]"
   ]
  },
  {
   "cell_type": "code",
   "execution_count": 126,
   "metadata": {},
   "outputs": [
    {
     "data": {
      "text/plain": [
       "torch.Size([2, 512])"
      ]
     },
     "execution_count": 126,
     "metadata": {},
     "output_type": "execute_result"
    }
   ],
   "source": [
    "htgt.shape"
   ]
  },
  {
   "cell_type": "code",
   "execution_count": 127,
   "metadata": {},
   "outputs": [
    {
     "name": "stdout",
     "output_type": "stream",
     "text": [
      "torch.Size([2, 512])\n"
     ]
    },
    {
     "data": {
      "text/plain": [
       "(2, 512)"
      ]
     },
     "execution_count": 127,
     "metadata": {},
     "output_type": "execute_result"
    }
   ],
   "source": [
    "from scipy.signal import resample_poly\n",
    "\n",
    "# Assume hrir_data is your HRIR data and hrir_rate is its sample rate\n",
    "# Assume audio_rate is the sample rate of your audio\n",
    "\n",
    "# Calculate the greatest common divisor of the two rates\n",
    "print(htgt.shape)\n",
    "# htgt = htgt.numpy()\n",
    "gcd = np.gcd(48000, 44100)\n",
    "\n",
    "# Resample the HRIR data\n",
    "htgt = resample_poly(htgt, 44100 // gcd, 48000 // gcd)\n",
    "htgt.shape"
   ]
  },
  {
   "cell_type": "code",
   "execution_count": 128,
   "metadata": {},
   "outputs": [
    {
     "data": {
      "text/plain": [
       "(512, 2)"
      ]
     },
     "execution_count": 128,
     "metadata": {},
     "output_type": "execute_result"
    }
   ],
   "source": [
    "htgt = np.transpose(htgt)\n",
    "# htgt = (htgt * 32767).astype(np.int16)\n",
    "htgt.shape"
   ]
  },
  {
   "cell_type": "code",
   "execution_count": 129,
   "metadata": {},
   "outputs": [],
   "source": [
    "output = np.stack([fftconvolve(audio_data[:, i], htgt[:, i], mode='full') for i in range(2)], axis=-1)\n",
    "\n",
    "# Make sure to scale the output to avoid clipping\n",
    "output /= np.abs(output).max()\n",
    "\n",
    "# Save the output\n",
    "wavfile.write('/workspace/fourth_year_project/HRTF Models/output.wav', audio_rate, output_data.astype(np.int16))"
   ]
  },
  {
   "cell_type": "code",
   "execution_count": 113,
   "metadata": {},
   "outputs": [
    {
     "data": {
      "text/plain": [
       "((512, 2), (11003904, 2), (11004415, 3))"
      ]
     },
     "execution_count": 113,
     "metadata": {},
     "output_type": "execute_result"
    }
   ],
   "source": [
    "htgt.shape, audio_data.shape, output_data.shape"
   ]
  },
  {
   "cell_type": "code",
   "execution_count": 123,
   "metadata": {},
   "outputs": [
    {
     "data": {
      "text/plain": [
       "[<matplotlib.lines.Line2D at 0x7f7511760e20>]"
      ]
     },
     "execution_count": 123,
     "metadata": {},
     "output_type": "execute_result"
    },
    {
     "data": {
      "image/png": "[encoded data removed]",
      "text/plain": [
       "<Figure size 640x480 with 1 Axes>"
      ]
     },
     "metadata": {},
     "output_type": "display_data"
    }
   ],
   "source": [
    "hsample = next(iter(test_loader))\n",
    "hsrc, htgt, hangle = hsample\n",
    "plt.plot(htgt[3, 1,:])"
   ]
  },
  {
   "cell_type": "code",
   "execution_count": 17,
   "metadata": {},
   "outputs": [
    {
     "data": {
      "text/plain": [
       "<All keys matched successfully>"
      ]
     },
     "execution_count": 17,
     "metadata": {},
     "output_type": "execute_result"
    }
   ],
   "source": [
    "model.load_state_dict(torch.load('/workspace/fourth_year_project/HRTF Models/model_98_step_scheded.pth'))"
   ]
  },
  {
   "cell_type": "code",
   "execution_count": 18,
   "metadata": {},
   "outputs": [],
   "source": [
    "# load in 1 sample from test set\n",
    "sample = next(iter(test_loader))\n",
    "src, tgt, angle = sample\n",
    "src = src.to(device)\n",
    "tgt = tgt.to(device)\n",
    "angle = angle.to(device)\n",
    "angle = angle.float()\n",
    "src = src.float()\n",
    "tgt = tgt.float()\n",
    "\n",
    "# Get first sample from batch\n",
    "src = src[0]\n",
    "tgt = tgt[0]\n",
    "angle = angle[0]\n",
    "\n",
    "\n",
    "# output = model(src, angle)\n",
    "# src_norm = (src - src.mean()) / src.std()\n",
    "# tgt_norm = (tgt - tgt.mean()) / tgt.std()\n",
    "# plot src\n",
    "# plt.figure()\n",
    "\n",
    "\n",
    "# plt.plot(output[0].cpu().detach().numpy())\n",
    "# plt.plot(tgt[0].cpu().detach().numpy())"
   ]
  },
  {
   "cell_type": "code",
   "execution_count": 22,
   "metadata": {},
   "outputs": [
    {
     "data": {
      "text/plain": [
       "[<matplotlib.lines.Line2D at 0x7ff751522460>]"
      ]
     },
     "execution_count": 22,
     "metadata": {},
     "output_type": "execute_result"
    },
    {
     "data": {
      "image/png": "[encoded data removed]",
      "text/plain": [
       "<Figure size 640x480 with 1 Axes>"
      ]
     },
     "metadata": {},
     "output_type": "display_data"
    }
   ],
   "source": [
    "plt.plot(src[0].cpu().detach().numpy())\n"
   ]
  },
  {
   "cell_type": "code",
   "execution_count": 23,
   "metadata": {},
   "outputs": [
    {
     "data": {
      "text/plain": [
       "[<matplotlib.lines.Line2D at 0x7ff751492580>]"
      ]
     },
     "execution_count": 23,
     "metadata": {},
     "output_type": "execute_result"
    },
    {
     "data": {
      "image/png": "[encoded data removed]",
      "text/plain": [
       "<Figure size 640x480 with 1 Axes>"
      ]
     },
     "metadata": {},
     "output_type": "display_data"
    }
   ],
   "source": [
    "plt.plot(tgt[0].cpu().detach().numpy())"
   ]
  },
  {
   "cell_type": "code",
   "execution_count": 24,
   "metadata": {},
   "outputs": [
    {
     "name": "stdout",
     "output_type": "stream",
     "text": [
      "torch.Size([2, 512]) torch.Size([]) torch.Size([2, 512])\n",
      "tensor(55., device='cuda:0')\n"
     ]
    },
    {
     "data": {
      "text/plain": [
       "torch.Size([3, 512])"
      ]
     },
     "execution_count": 24,
     "metadata": {},
     "output_type": "execute_result"
    }
   ],
   "source": [
    "print(src.shape, angle.shape, tgt.shape)\n",
    "print(angle)\n",
    "\n",
    "output = model(src.unsqueeze(0), angle.unsqueeze(0), tgt.unsqueeze(0))\n",
    "output  = output.squeeze(0)\n",
    "output.shape"
   ]
  },
  {
   "cell_type": "code",
   "execution_count": 25,
   "metadata": {},
   "outputs": [
    {
     "data": {
      "text/plain": [
       "[<matplotlib.lines.Line2D at 0x7ff7513f9220>]"
      ]
     },
     "execution_count": 25,
     "metadata": {},
     "output_type": "execute_result"
    },
    {
     "data": {
      "image/png": "[encoded data removed]",
      "text/plain": [
       "<Figure size 640x480 with 1 Axes>"
      ]
     },
     "metadata": {},
     "output_type": "display_data"
    }
   ],
   "source": [
    "plt.plot(output[0].cpu().detach().numpy())"
   ]
  },
  {
   "cell_type": "code",
   "execution_count": null,
   "metadata": {},
   "outputs": [],
   "source": []
  }
 ],
 "metadata": {
  "kernelspec": {
   "display_name": "Python 3 (ipykernel)",
   "language": "python",
   "name": "python3"
  },
  "language_info": {
   "codemirror_mode": {
    "name": "ipython",
    "version": 3
   },
   "file_extension": ".py",
   "mimetype": "text/x-python",
   "name": "python",
   "nbconvert_exporter": "python",
   "pygments_lexer": "ipython3",
   "version": "3.8.13"
  }
 },
 "nbformat": 4,
 "nbformat_minor": 2
}
