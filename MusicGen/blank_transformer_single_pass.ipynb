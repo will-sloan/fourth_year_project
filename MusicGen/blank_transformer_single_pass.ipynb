{
 "cells": [
  {
   "cell_type": "code",
   "execution_count": 1,
   "metadata": {},
   "outputs": [
    {
     "name": "stderr",
     "output_type": "stream",
     "text": [
      "/workspace/venv_work/lib/python3.8/site-packages/torch/nn/utils/weight_norm.py:30: UserWarning: torch.nn.utils.weight_norm is deprecated in favor of torch.nn.utils.parametrizations.weight_norm.\n",
      "  warnings.warn(\"torch.nn.utils.weight_norm is deprecated in favor of torch.nn.utils.parametrizations.weight_norm.\")\n"
     ]
    }
   ],
   "source": [
    "# To hold the code of a blank transformer model\n",
    "import sys\n",
    "sys.path.append('/workspace/fourth_year_project/MusicGen')\n",
    "#print(sys.path)\n",
    "from MyAudioDataset import MyAudioDataset\n",
    "import torch\n",
    "from torch import nn\n",
    "import torchaudio\n",
    "mydataset = MyAudioDataset('/workspace/small_model_data2', 'recording_01_')\n",
    "from audiocraft.models import CompressionModel\n",
    "from audiocraft.models.encodec import InterleaveStereoCompressionModel\n",
    "model = CompressionModel.get_pretrained('facebook/encodec_32khz')\n",
    "#model = model.cuda()\n",
    "comp_model = InterleaveStereoCompressionModel(model)\n",
    "# move to GPU\n",
    "##comp_model = comp_model.cuda()\n",
    "\n",
    "source_comp=model\n",
    "target_comp=comp_model\n",
    "#d_model=1500 # once we get more memory\n",
    "d_model=512\n",
    "nhead=4\n",
    "num_layers=4\n",
    "dim_feedforward=512\n",
    "\n"
   ]
  },
  {
   "cell_type": "code",
   "execution_count": 2,
   "metadata": {},
   "outputs": [],
   "source": [
    "#nn.Transformer(d_model, nhead, num_layers, dim_feedforward)"
   ]
  },
  {
   "cell_type": "code",
   "execution_count": 12,
   "metadata": {},
   "outputs": [],
   "source": [
    "import torch\n",
    "import torch.nn as nn\n",
    "\n",
    "class SimpleModel(nn.Module):\n",
    "    def __init__(self, d_model, nhead, num_layers, dim_feedforward):\n",
    "        super(SimpleModel, self).__init__()\n",
    "        self.tl = nn.Transformer(d_model, nhead, num_layers, dim_feedforward) \n",
    "        self.il = nn.Linear(1500, d_model)\n",
    "        self.ol = nn.Linear(d_model, 1500)\n",
    "    \n",
    "    def forward(self, audio, angle):\n",
    "        #audio = audio.cuda()\n",
    "        print(audio.shape)\n",
    "        audio = self.il(audio)\n",
    "        print(audio.shape)\n",
    "\n",
    "        #angle = self.angle_encoding(angle)  # Process one-hot encoded angle\n",
    "        #angle = angle.unsqueeze(1).repeat(1, audio.size(2), 1)  # Repeat angle for each time step\n",
    "        #x = audio + angle  # Combine audio and angle\n",
    "\n",
    "        #x = self.tl(x.permute(2, 0, 1))\n",
    "        #x = x.permute(1, 2, 0)\n",
    "        x = self.ol(audio)\n",
    "        print(x.shape)\n",
    "        #print(x)\n",
    "\n",
    "        #return x.view(-1, 2, 30*44100)\n",
    "        return x\n",
    "    \n",
    "# torch.Size([1, 4, 1500])\n",
    "# torch.Size([1, 4, 256])\n",
    "# torch.Size([1, 4, 2])\n",
    "# tensor([[[-219.0613,  256.4537],\n",
    "#          [-631.1140,  370.1495],\n",
    "#          [-156.5977,   39.5030],\n",
    "#          [  52.4517,  273.8931]]], grad_fn=<ViewBackward0>)\n"
   ]
  },
  {
   "cell_type": "code",
   "execution_count": 13,
   "metadata": {},
   "outputs": [
    {
     "name": "stderr",
     "output_type": "stream",
     "text": [
      "/workspace/venv_work/lib/python3.8/site-packages/torch/nn/modules/transformer.py:282: UserWarning: enable_nested_tensor is True, but self.use_nested_tensor is False because encoder_layer.self_attn.batch_first was not True(use batch_first for better inference performance)\n",
      "  warnings.warn(f\"enable_nested_tensor is True, but self.use_nested_tensor is False because {why_not_sparsity_fast_path}\")\n"
     ]
    }
   ],
   "source": [
    "big_model = SimpleModel(d_model, nhead, num_layers, dim_feedforward)"
   ]
  },
  {
   "cell_type": "code",
   "execution_count": 14,
   "metadata": {},
   "outputs": [],
   "source": [
    "def compress_mono(mono):\n",
    "        #mono = mono.cuda()\n",
    "        with torch.no_grad():\n",
    "            mono, scale = target_comp.encode(mono)\n",
    "        return mono\n",
    "\n",
    "def compress_stereo(stereo):\n",
    "        #stereo = stereo.cuda()\n",
    "        with torch.no_grad():\n",
    "            stereo, scale = target_comp.encode(stereo)\n",
    "        return stereo"
   ]
  },
  {
   "cell_type": "code",
   "execution_count": 15,
   "metadata": {},
   "outputs": [],
   "source": [
    "batch_size = 1\n",
    "lr = 0.0001\n",
    "loss_fn = nn.CosineEmbeddingLoss()\n",
    "optimizer = torch.optim.Adam(big_model.parameters(), lr=lr)\n",
    "train_loader = torch.utils.data.DataLoader(mydataset, batch_size=batch_size, shuffle=True)"
   ]
  },
  {
   "cell_type": "code",
   "execution_count": 16,
   "metadata": {},
   "outputs": [],
   "source": [
    "target, orig, angle, sr  = train_loader.__iter__().__next__()"
   ]
  },
  {
   "cell_type": "code",
   "execution_count": 17,
   "metadata": {},
   "outputs": [],
   "source": [
    "# optimizer.zero_grad()\n",
    "# target = target.cuda()\n",
    "# orig = orig.cuda()"
   ]
  },
  {
   "cell_type": "code",
   "execution_count": 18,
   "metadata": {},
   "outputs": [],
   "source": [
    "# Convert wav to codes\n",
    "target_codes = compress_stereo(target)\n",
    "orig_codes = compress_mono(orig)\n",
    "# print(type(target_codes[0][0]))\n",
    "# print(type(orig_codes[0][0]))"
   ]
  },
  {
   "cell_type": "code",
   "execution_count": 19,
   "metadata": {},
   "outputs": [
    {
     "name": "stdout",
     "output_type": "stream",
     "text": [
      "torch.Size([1, 8, 1500])\n"
     ]
    }
   ],
   "source": [
    "print(orig_codes.shape)"
   ]
  },
  {
   "cell_type": "code",
   "execution_count": 20,
   "metadata": {},
   "outputs": [
    {
     "name": "stdout",
     "output_type": "stream",
     "text": [
      "torch.Size([1, 8, 1500])\n",
      "torch.Size([1, 8, 512])\n",
      "torch.Size([1, 8, 1500])\n"
     ]
    }
   ],
   "source": [
    "# Pass codes to model\n",
    "output = big_model(audio=orig_codes.float(), angle=angle)"
   ]
  },
  {
   "cell_type": "code",
   "execution_count": 22,
   "metadata": {},
   "outputs": [
    {
     "data": {
      "text/plain": [
       "torch.Size([1, 8, 1500])"
      ]
     },
     "execution_count": 22,
     "metadata": {},
     "output_type": "execute_result"
    }
   ],
   "source": [
    "output.shape"
   ]
  },
  {
   "cell_type": "code",
   "execution_count": 27,
   "metadata": {},
   "outputs": [],
   "source": [
    "# loss = loss_fn(output, target_codes)\n",
    "y = torch.ones(target_codes.size(0))\n",
    "loss = loss_fn(output.squeeze(0), target_codes.squeeze(0), y)\n"
   ]
  },
  {
   "cell_type": "code",
   "execution_count": 28,
   "metadata": {},
   "outputs": [],
   "source": [
    "loss.backward()\n"
   ]
  },
  {
   "cell_type": "code",
   "execution_count": 31,
   "metadata": {},
   "outputs": [
    {
     "name": "stdout",
     "output_type": "stream",
     "text": [
      "Epoch 1, batch 1, loss 0.979752779006958\n"
     ]
    }
   ],
   "source": [
    "epoch = 1\n",
    "i=1\n",
    "optimizer.step()\n",
    "print(f\"Epoch {epoch}, batch {i}, loss {loss.item()}\")"
   ]
  },
  {
   "cell_type": "code",
   "execution_count": null,
   "metadata": {},
   "outputs": [],
   "source": []
  }
 ],
 "metadata": {
  "kernelspec": {
   "display_name": "venv_work",
   "language": "python",
   "name": "venv_work"
  },
  "language_info": {
   "codemirror_mode": {
    "name": "ipython",
    "version": 3
   },
   "file_extension": ".py",
   "mimetype": "text/x-python",
   "name": "python",
   "nbconvert_exporter": "python",
   "pygments_lexer": "ipython3",
   "version": "3.8.13"
  }
 },
 "nbformat": 4,
 "nbformat_minor": 2
}
