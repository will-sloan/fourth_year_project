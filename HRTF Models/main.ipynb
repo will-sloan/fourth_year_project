{
 "cells": [
  {
   "cell_type": "code",
   "execution_count": 4,
   "metadata": {},
   "outputs": [],
   "source": [
    "\n",
    "from pysofaconventions import *\n",
    "import numpy as np\n",
    "def printLine():\n",
    "    print(\"-----------------------------------------------------------------------\\n\")\n",
    "\n",
    "def printBlankLine():\n",
    "    print(\"\")\n"
   ]
  },
  {
   "cell_type": "code",
   "execution_count": 5,
   "metadata": {},
   "outputs": [
    {
     "data": {
      "text/plain": [
       "(865, 2, 512)"
      ]
     },
     "execution_count": 5,
     "metadata": {},
     "output_type": "execute_result"
    }
   ],
   "source": [
    "from matplotlib import pyplot as plt\n",
    "import numpy as np\n",
    "path = 'sofa_hrtfs/RIEC_hrir_subject_001.sofa'\n",
    "sofa = SOFAFile(path, 'r')\n",
    "\n",
    "sourcePositions = sofa.getVariableValue('SourcePosition')\n",
    "# print(\"\\n\")\n",
    "# print(\"Source Positions\")\n",
    "# print(sourcePositions)\n",
    "# and the info (units, coordinates)\n",
    "# print(sofa.getPositionVariableInfo('SourcePosition'))\n",
    "\n",
    "# Let's inspect the first measurement\n",
    "# m = 0\n",
    "# print(\"\\n\")\n",
    "# print(\"Source Position of measurement \" + str(m))\n",
    "# print(sourcePositions[m])\n",
    "# which is at 82 degrees azimuth, -7 degrees elevation\n",
    "\n",
    "# Read the data\n",
    "data = sofa.getDataIR()\n",
    "# and get the HRTF associated with m=0\n",
    "\n",
    "# angle, elevation, distance\n",
    "# hrtf = data[m,:,:]\n",
    "data.shape\n"
   ]
  },
  {
   "cell_type": "code",
   "execution_count": 6,
   "metadata": {},
   "outputs": [
    {
     "data": {
      "text/plain": [
       "masked_array(data=[  0.,   5.,  10.,  15.,  20.,  25.,  30.,  35.,  40.,\n",
       "                    45.,  50.,  55.,  60.,  65.,  70.,  75.,  80.,  85.,\n",
       "                    90.,  95., 100., 105., 110., 115., 120., 125., 130.,\n",
       "                   135., 140., 145., 150., 155., 160., 165., 170., 175.,\n",
       "                   180., 185., 190., 195., 200., 205., 210., 215., 220.,\n",
       "                   225., 230., 235., 240., 245., 250., 255., 260., 265.,\n",
       "                   270., 275., 280., 285., 290., 295., 300., 305., 310.,\n",
       "                   315., 320., 325., 330., 335., 340., 345., 350., 355.,\n",
       "                     0.,   5.,  10.,  15.,  20.,  25.,  30.,  35.,  40.,\n",
       "                    45.,  50.,  55.,  60.,  65.,  70.,  75.,  80.,  85.,\n",
       "                    90.,  95., 100., 105., 110., 115., 120., 125., 130.,\n",
       "                   135., 140., 145., 150., 155., 160., 165., 170., 175.,\n",
       "                   180., 185., 190., 195., 200., 205., 210., 215., 220.,\n",
       "                   225., 230., 235., 240., 245., 250., 255., 260., 265.,\n",
       "                   270., 275., 280., 285., 290., 295., 300., 305., 310.,\n",
       "                   315., 320., 325., 330., 335., 340., 345., 350., 355.,\n",
       "                     0.,   5.,  10.,  15.,  20.,  25.,  30.,  35.,  40.,\n",
       "                    45.,  50.,  55.,  60.,  65.,  70.,  75.,  80.,  85.,\n",
       "                    90.,  95., 100., 105., 110., 115., 120., 125., 130.,\n",
       "                   135., 140., 145., 150., 155., 160., 165., 170., 175.,\n",
       "                   180., 185., 190., 195., 200., 205., 210., 215., 220.,\n",
       "                   225., 230., 235., 240., 245., 250., 255., 260., 265.,\n",
       "                   270., 275., 280., 285., 290., 295., 300., 305., 310.,\n",
       "                   315., 320., 325., 330., 335., 340., 345., 350., 355.,\n",
       "                     0.,   5.,  10.,  15.,  20.,  25.,  30.,  35.,  40.,\n",
       "                    45.,  50.,  55.,  60.,  65.,  70.,  75.,  80.,  85.,\n",
       "                    90.,  95., 100., 105., 110., 115., 120., 125., 130.,\n",
       "                   135., 140., 145., 150., 155., 160., 165., 170., 175.,\n",
       "                   180., 185., 190., 195., 200., 205., 210., 215., 220.,\n",
       "                   225., 230., 235., 240., 245., 250., 255., 260., 265.,\n",
       "                   270., 275., 280., 285., 290., 295., 300., 305., 310.,\n",
       "                   315., 320., 325., 330., 335., 340., 345., 350., 355.,\n",
       "                     0.,   5.,  10.,  15.,  20.,  25.,  30.,  35.,  40.,\n",
       "                    45.,  50.,  55.,  60.,  65.,  70.,  75.,  80.,  85.,\n",
       "                    90.,  95., 100., 105., 110., 115., 120., 125., 130.,\n",
       "                   135., 140., 145., 150., 155., 160., 165., 170., 175.,\n",
       "                   180., 185., 190., 195., 200., 205., 210., 215., 220.,\n",
       "                   225., 230., 235., 240., 245., 250., 255., 260., 265.,\n",
       "                   270., 275., 280., 285., 290., 295., 300., 305., 310.,\n",
       "                   315., 320., 325., 330., 335., 340., 345., 350., 355.,\n",
       "                     0.,   5.,  10.,  15.,  20.,  25.,  30.,  35.,  40.,\n",
       "                    45.,  50.,  55.,  60.,  65.,  70.,  75.,  80.,  85.,\n",
       "                    90.,  95., 100., 105., 110., 115., 120., 125., 130.,\n",
       "                   135., 140., 145., 150., 155., 160., 165., 170., 175.,\n",
       "                   180., 185., 190., 195., 200., 205., 210., 215., 220.,\n",
       "                   225., 230., 235., 240., 245., 250., 255., 260., 265.,\n",
       "                   270., 275., 280., 285., 290., 295., 300., 305., 310.,\n",
       "                   315., 320., 325., 330., 335., 340., 345., 350., 355.,\n",
       "                     0.,   5.,  10.,  15.,  20.,  25.,  30.,  35.,  40.,\n",
       "                    45.,  50.,  55.,  60.,  65.,  70.,  75.,  80.,  85.,\n",
       "                    90.,  95., 100., 105., 110., 115., 120., 125., 130.,\n",
       "                   135., 140., 145., 150., 155., 160., 165., 170., 175.,\n",
       "                   180., 185., 190., 195., 200., 205., 210., 215., 220.,\n",
       "                   225., 230., 235., 240., 245., 250., 255., 260., 265.,\n",
       "                   270., 275., 280., 285., 290., 295., 300., 305., 310.,\n",
       "                   315., 320., 325., 330., 335., 340., 345., 350., 355.,\n",
       "                     0.,   5.,  10.,  15.,  20.,  25.,  30.,  35.,  40.,\n",
       "                    45.,  50.,  55.,  60.,  65.,  70.,  75.,  80.,  85.,\n",
       "                    90.,  95., 100., 105., 110., 115., 120., 125., 130.,\n",
       "                   135., 140., 145., 150., 155., 160., 165., 170., 175.,\n",
       "                   180., 185., 190., 195., 200., 205., 210., 215., 220.,\n",
       "                   225., 230., 235., 240., 245., 250., 255., 260., 265.,\n",
       "                   270., 275., 280., 285., 290., 295., 300., 305., 310.,\n",
       "                   315., 320., 325., 330., 335., 340., 345., 350., 355.,\n",
       "                     0.,   5.,  10.,  15.,  20.,  25.,  30.,  35.,  40.,\n",
       "                    45.,  50.,  55.,  60.,  65.,  70.,  75.,  80.,  85.,\n",
       "                    90.,  95., 100., 105., 110., 115., 120., 125., 130.,\n",
       "                   135., 140., 145., 150., 155., 160., 165., 170., 175.,\n",
       "                   180., 185., 190., 195., 200., 205., 210., 215., 220.,\n",
       "                   225., 230., 235., 240., 245., 250., 255., 260., 265.,\n",
       "                   270., 275., 280., 285., 290., 295., 300., 305., 310.,\n",
       "                   315., 320., 325., 330., 335., 340., 345., 350., 355.,\n",
       "                     0.,   5.,  10.,  15.,  20.,  25.,  30.,  35.,  40.,\n",
       "                    45.,  50.,  55.,  60.,  65.,  70.,  75.,  80.,  85.,\n",
       "                    90.,  95., 100., 105., 110., 115., 120., 125., 130.,\n",
       "                   135., 140., 145., 150., 155., 160., 165., 170., 175.,\n",
       "                   180., 185., 190., 195., 200., 205., 210., 215., 220.,\n",
       "                   225., 230., 235., 240., 245., 250., 255., 260., 265.,\n",
       "                   270., 275., 280., 285., 290., 295., 300., 305., 310.,\n",
       "                   315., 320., 325., 330., 335., 340., 345., 350., 355.,\n",
       "                     0.,   5.,  10.,  15.,  20.,  25.,  30.,  35.,  40.,\n",
       "                    45.,  50.,  55.,  60.,  65.,  70.,  75.,  80.,  85.,\n",
       "                    90.,  95., 100., 105., 110., 115., 120., 125., 130.,\n",
       "                   135., 140., 145., 150., 155., 160., 165., 170., 175.,\n",
       "                   180., 185., 190., 195., 200., 205., 210., 215., 220.,\n",
       "                   225., 230., 235., 240., 245., 250., 255., 260., 265.,\n",
       "                   270., 275., 280., 285., 290., 295., 300., 305., 310.,\n",
       "                   315., 320., 325., 330., 335., 340., 345., 350., 355.,\n",
       "                     0.,   5.,  10.,  15.,  20.,  25.,  30.,  35.,  40.,\n",
       "                    45.,  50.,  55.,  60.,  65.,  70.,  75.,  80.,  85.,\n",
       "                    90.,  95., 100., 105., 110., 115., 120., 125., 130.,\n",
       "                   135., 140., 145., 150., 155., 160., 165., 170., 175.,\n",
       "                   180., 185., 190., 195., 200., 205., 210., 215., 220.,\n",
       "                   225., 230., 235., 240., 245., 250., 255., 260., 265.,\n",
       "                   270., 275., 280., 285., 290., 295., 300., 305., 310.,\n",
       "                   315., 320., 325., 330., 335., 340., 345., 350., 355.,\n",
       "                     0.],\n",
       "             mask=False,\n",
       "       fill_value=1e+20)"
      ]
     },
     "execution_count": 6,
     "metadata": {},
     "output_type": "execute_result"
    }
   ],
   "source": [
    "sourcePositions[:, 0]"
   ]
  },
  {
   "cell_type": "code",
   "execution_count": 7,
   "metadata": {},
   "outputs": [
    {
     "name": "stdout",
     "output_type": "stream",
     "text": [
      "[216 217 218 219 220 221 222 223 224 225 226 227 228 229 230 231 232 233\n",
      " 234 235 236 237 238 239 240 241 242 243 244 245 246 247 248 249 250 251\n",
      " 252 253 254 255 256 257 258 259 260 261 262 263 264 265 266 267 268 269\n",
      " 270 271 272 273 274 275 276 277 278 279 280 281 282 283 284 285 286 287]\n",
      "[  0.   5.  10.  15.  20.  25.  30.  35.  40.  45.  50.  55.  60.  65.\n",
      "  70.  75.  80.  85.  90.  95. 100. 105. 110. 115. 120. 125. 130. 135.\n",
      " 140. 145. 150. 155. 160. 165. 170. 175. 180. 185. 190. 195. 200. 205.\n",
      " 210. 215. 220. 225. 230. 235. 240. 245. 250. 255. 260. 265. 270. 275.\n",
      " 280. 285. 290. 295. 300. 305. 310. 315. 320. 325. 330. 335. 340. 345.\n",
      " 350. 355.]\n"
     ]
    }
   ],
   "source": [
    "# Get indexes of the source positions when the elevation is 0\n",
    "i = np.where(sourcePositions[:,1] == 0)[0]\n",
    "print(i)\n",
    "angles=  sourcePositions[i, 0]\n",
    "print(angles)"
   ]
  },
  {
   "cell_type": "code",
   "execution_count": 37,
   "metadata": {},
   "outputs": [
    {
     "data": {
      "text/plain": [
       "(72, 2, 512)"
      ]
     },
     "execution_count": 37,
     "metadata": {},
     "output_type": "execute_result"
    }
   ],
   "source": [
    "# Get all hrirs in data at i\n",
    "hrirs = data[i,:,:]\n",
    "hrirs.shape"
   ]
  },
  {
   "cell_type": "code",
   "execution_count": 40,
   "metadata": {},
   "outputs": [
    {
     "data": {
      "text/plain": [
       "(array([  0,  72, 144, 216, 288, 360, 432, 504, 576, 648, 720, 792, 864],\n",
       "       dtype=int64),\n",
       " array([216], dtype=int64))"
      ]
     },
     "execution_count": 40,
     "metadata": {},
     "output_type": "execute_result"
    }
   ],
   "source": [
    "# Get indexes where elevatio is 0 and azimuth is 0\n",
    "ii = np.where(sourcePositions[:,0] == 0)[0]\n",
    "# Get overlap between i and ii\n",
    "iii = np.intersect1d(i, ii)\n",
    "ii,iii"
   ]
  },
  {
   "cell_type": "code",
   "execution_count": 1,
   "metadata": {},
   "outputs": [],
   "source": [
    "from HRIRDataset import HRIRDataset\n",
    "import matplotlib.pyplot as plt"
   ]
  },
  {
   "cell_type": "code",
   "execution_count": 2,
   "metadata": {},
   "outputs": [],
   "source": [
    "sofa_file = 'sofa_hrtfs/RIEC_hrir_subject_001.sofa'\n",
    "hrir_dataset = HRIRDataset()\n",
    "hrir_dataset.load(sofa_file)"
   ]
  },
  {
   "cell_type": "code",
   "execution_count": 3,
   "metadata": {},
   "outputs": [
    {
     "data": {
      "text/plain": [
       "(masked_array(\n",
       "   data=[[ 0.00459809,  0.00163729,  0.00456762, ...,  0.00237496,\n",
       "           0.00237496,  0.00237496],\n",
       "         [ 0.00026689,  0.00076232, -0.00011474, ...,  0.00077833,\n",
       "           0.00077833,  0.00077833]],\n",
       "   mask=False,\n",
       "   fill_value=1e+20),\n",
       " masked_array(\n",
       "   data=[[4.86887069e-04, 8.78747766e-04, 3.36181724e-04, ...,\n",
       "          7.09368777e-05, 7.09368777e-05, 7.09368777e-05],\n",
       "         [8.12046104e-04, 8.12046104e-04, 8.12046104e-04, ...,\n",
       "          8.12046104e-04, 8.12046104e-04, 8.12046104e-04]],\n",
       "   mask=False,\n",
       "   fill_value=1e+20),\n",
       " 160.0)"
      ]
     },
     "execution_count": 3,
     "metadata": {},
     "output_type": "execute_result"
    }
   ],
   "source": [
    "hrir_dataset[32]"
   ]
  },
  {
   "cell_type": "code",
   "execution_count": null,
   "metadata": {},
   "outputs": [],
   "source": [
    "import torch\n",
    "from torch import nn\n",
    "\n",
    "class PredictiveModel(nn.Module):\n",
    "    def __init__(self, d_model=3, nhead=3, num_layers=8):\n",
    "        super(PredictiveModel, self).__init__()\n",
    "        self.transformer = nn.Transformer(d_model, nhead, num_layers)\n",
    "        # self.linear = nn.Linear(d_model, d_model)\n",
    "\n",
    "    def random_mask(self, input, mask_ratio=0.1):\n",
    "        # Create a random binary mask with approximately `mask_ratio` fraction of zeros\n",
    "        mask = (torch.rand(input.shape) > mask_ratio).float()\n",
    "        # Apply the mask to the input (elementwise multiplication)\n",
    "        masked_input = input * mask\n",
    "        return masked_input\n",
    "\n",
    "    def forward(self, src, tgt, angle, mask_ratio=0.1, src_mask=None, tgt_mask=None):\n",
    "        # src: [batch_size, d_model, seq_length]\n",
    "        # tgt: [batch_size, d_model, seq_length]\n",
    "        # angle: [batch_size, 1]\n",
    "        #print(src.shape, tgt.shape, angle.shape)\n",
    "        src = self.random_mask(src, mask_ratio)\n",
    "        #angle = torch.tensor(float(angle)).view(1, 1, 1).expand(src.shape[0], src.shape[1], 1)\n",
    "        # Reshape it to have shape (batch_size, 1, 1)\n",
    "        angle = angle.view(src.shape[0], 1, 1)\n",
    "\n",
    "        # Expand it to have the same sequence length as src\n",
    "        angle = angle.expand(-1, -1, src.shape[2])\n",
    "        #print(src.shape, tgt.shape, angle.shape)\n",
    "        # Concatenate angle with src along the feature dimension\n",
    "        src = torch.cat((src, angle), dim=1)\n",
    "        \n",
    "        # Keep src and tgt the same shape\n",
    "        constant_tgt = torch.full_like(angle, -1)\n",
    "        tgt = torch.cat((tgt, constant_tgt), dim=1)\n",
    "        # Change the shape to [seq_length, batch_size, d_model]\n",
    "        src = src.permute(2, 0, 1)\n",
    "        tgt = tgt.permute(2, 0, 1)\n",
    "        output = self.transformer(src, tgt, src_mask=src_mask, tgt_mask=tgt_mask)\n",
    "        # Convert back to [batch_size, d_model, seq_length]\n",
    "        output = output.permute(1, 2, 0)\n",
    "        # print(output.shape)\n",
    "        # output = self.linear(output)\n",
    "        return output"
   ]
  },
  {
   "cell_type": "code",
   "execution_count": 177,
   "metadata": {},
   "outputs": [],
   "source": [
    "import torch\n",
    "from torch import nn\n",
    "\n",
    "class MaskedModel(nn.Module):\n",
    "    def __init__(self, d_model=3, nhead=3, num_layers=8):\n",
    "        super(MaskedModel, self).__init__()\n",
    "        self.transformer = nn.Transformer(d_model, nhead, num_layers)\n",
    "        # self.linear = nn.Linear(d_model, d_model)\n",
    "\n",
    "    def random_mask(self, input, mask_ratio=0.1):\n",
    "        # Create a random binary mask with approximately `mask_ratio` fraction of zeros\n",
    "        mask = (torch.rand(input.shape) > mask_ratio).float()\n",
    "        # Apply the mask to the input (elementwise multiplication)\n",
    "        masked_input = input * mask\n",
    "        return masked_input\n",
    "    \n",
    "    def autoregressive_inference(self, input, angle):\n",
    "        # Initialize the output sequence with a start-of-sequence token\n",
    "        output = torch.zeros_like(input)\n",
    "        output[:, 0] = input[:, 0]\n",
    "\n",
    "        # Loop over each position in the output sequence\n",
    "        for t in range(1, output.size(1)):\n",
    "            # Get the predictions for the next token\n",
    "            predictions = self.transformer(input, output, angle)\n",
    "            \n",
    "            # Choose the token with the highest prediction as the next token\n",
    "            # This is a simple \"greedy\" decoding method; other methods like beam search could also be used\n",
    "            output[:, t] = predictions[:, t-1].argmax(dim=-1)\n",
    "        \n",
    "        return output\n",
    "    \n",
    "    def forward(self, src, tgt, angle, src_mask=None, tgt_mask=None):\n",
    "        if self.training and tgt is not None:\n",
    "            # create a 512 long angle tensor to add as a feature\n",
    "            angle = angle.view(src.shape[0], 1, 1)\n",
    "            angle = angle.expand(-1, -1, src.shape[2])\n",
    "            src = torch.cat((src, angle), dim=1)\n",
    "            # Do the same for tgt but set it to -1 since that isn't a real angle\n",
    "            constant_tgt = torch.full_like(angle, -1)\n",
    "            tgt = torch.cat((tgt, constant_tgt), dim=1)\n",
    "            \n",
    "            # Replace the first value of tgt with the first value of src\n",
    "            # Since when we generate, we won't have a value for tgt\n",
    "            tgt = torch.cat([src[:, :1], tgt[:, 1:]], dim=1)\n",
    "            #print(tgt.shape)\n",
    "            src = src.permute(2, 0, 1)\n",
    "            tgt = tgt.permute(2, 0, 1)\n",
    "            \n",
    "            output = self.transformer(src, tgt, src_mask=src_mask, tgt_mask=tgt_mask)\n",
    "            # Convert back to [batch_size, d_model, seq_length]\n",
    "            output = output.permute(1, 2, 0)\n",
    "            # print(output.shape)\n",
    "            # output = self.linear(output)\n",
    "        else:\n",
    "            # No value for tgt so we generate one\n",
    "            output = self.autoregressive_inference(src, angle)\n",
    "        return output"
   ]
  },
  {
   "cell_type": "code",
   "execution_count": 178,
   "metadata": {},
   "outputs": [],
   "source": [
    "# Create a model object\n",
    "model = MaskedModel(d_model=3)\n",
    "\n",
    "# Create dummy input data\n",
    "batch_size = 5\n",
    "seq_length = 512\n",
    "d_model = 2\n",
    "src = torch.randn(batch_size, d_model, seq_length)\n",
    "tgt = torch.randn(batch_size, d_model, seq_length)\n",
    "prompt = [90.,90.,90.,90.,90.]\n",
    "angle = torch.tensor(prompt)\n"
   ]
  },
  {
   "cell_type": "code",
   "execution_count": 179,
   "metadata": {},
   "outputs": [
    {
     "data": {
      "text/plain": [
       "(torch.Size([5, 2, 512]),\n",
       " torch.Size([5, 2, 512]),\n",
       " tensor([90., 90., 90., 90., 90.]))"
      ]
     },
     "execution_count": 179,
     "metadata": {},
     "output_type": "execute_result"
    }
   ],
   "source": [
    "src.shape, tgt.shape, angle"
   ]
  },
  {
   "cell_type": "code",
   "execution_count": 180,
   "metadata": {},
   "outputs": [
    {
     "name": "stdout",
     "output_type": "stream",
     "text": [
      "torch.Size([5, 3, 512])\n"
     ]
    }
   ],
   "source": [
    "# Pass the dummy input through the model\n",
    "output = model(src, tgt, angle)\n",
    "\n",
    "# Print the output shape\n",
    "print(output.shape)"
   ]
  },
  {
   "cell_type": "code",
   "execution_count": 181,
   "metadata": {},
   "outputs": [],
   "source": [
    "from torch.utils.data import DataLoader\n",
    "\n",
    "# Set the model to training mode\n",
    "model.train()\n",
    "num_epochs = 100\n",
    "\n",
    "# Create the DataLoader\n",
    "dataloader = DataLoader(hrir_dataset, batch_size=2, shuffle=True)\n",
    "device = torch.device('cuda' if torch.cuda.is_available() else 'cpu')\n",
    "model = model.to(device)\n"
   ]
  },
  {
   "cell_type": "code",
   "execution_count": 183,
   "metadata": {},
   "outputs": [
    {
     "name": "stdout",
     "output_type": "stream",
     "text": [
      "Epoch 1, Loss: 1.5032082663642035\n",
      "Epoch 2, Loss: 1.3924590713447995\n",
      "Epoch 3, Loss: 1.3235995206567976\n",
      "Epoch 4, Loss: 1.2656113968955145\n",
      "Epoch 5, Loss: 1.2161039511362712\n",
      "Epoch 6, Loss: 1.173199690050549\n",
      "Epoch 7, Loss: 1.1382098197937012\n",
      "Epoch 8, Loss: 1.109126349290212\n",
      "Epoch 9, Loss: 1.0847125152746837\n",
      "Epoch 10, Loss: 1.0650041004021962\n",
      "Epoch 11, Loss: 1.0496020515759785\n",
      "Epoch 12, Loss: 1.0369381739033594\n",
      "Epoch 13, Loss: 1.0274304747581482\n",
      "Epoch 14, Loss: 1.0199998087353177\n",
      "Epoch 15, Loss: 1.0149031513267093\n",
      "Epoch 16, Loss: 1.010425329208374\n",
      "Epoch 17, Loss: 1.007014787859387\n",
      "Epoch 18, Loss: 1.0049467318587832\n",
      "Epoch 19, Loss: 1.0028550955984328\n",
      "Epoch 20, Loss: 1.0021459294690027\n",
      "Epoch 21, Loss: 1.0018825100527868\n",
      "Epoch 22, Loss: 1.001203778717253\n",
      "Epoch 23, Loss: 1.000438070959515\n",
      "Epoch 24, Loss: 1.0003438807196088\n",
      "Epoch 25, Loss: 1.0003725820117526\n",
      "Epoch 26, Loss: 1.0004195306036208\n",
      "Epoch 27, Loss: 1.000026500887341\n",
      "Epoch 28, Loss: 1.0000442134009466\n",
      "Epoch 29, Loss: 0.9998999767833285\n",
      "Epoch 30, Loss: 0.9999664972225825\n",
      "Epoch 31, Loss: 0.9999037865135405\n",
      "Epoch 32, Loss: 1.0001865377028782\n",
      "Epoch 33, Loss: 0.9999941322538588\n",
      "Epoch 34, Loss: 0.9997217655181885\n",
      "Epoch 35, Loss: 0.9998598313993878\n",
      "Epoch 36, Loss: 0.9999973956081603\n",
      "Epoch 37, Loss: 0.9998769925700294\n"
     ]
    }
   ],
   "source": [
    "import torch\n",
    "from torch import optim, nn\n",
    "\n",
    "# Define the optimizer and loss function\n",
    "optimizer = optim.Adam(model.parameters())\n",
    "loss_function = nn.MSELoss()\n",
    "\n",
    "# Set the model to training mode\n",
    "model.train()\n",
    "\n",
    "# Loop over each epoch\n",
    "for epoch in range(num_epochs):\n",
    "    # Initialize the epoch loss\n",
    "    epoch_loss = 0.0\n",
    "\n",
    "    # Loop over each batch\n",
    "    for i, batch in enumerate(dataloader):\n",
    "        # Get the src and tgt sequences from the batch\n",
    "        #print(batch)\n",
    "        src, tgt, angle = batch\n",
    "\n",
    "        # Move data to the same device as the model\n",
    "        src = src.to(device)\n",
    "        tgt = tgt.to(device)\n",
    "        angle = angle.to(device)\n",
    "        # convert to floats\n",
    "        angle = angle.float()\n",
    "        src = src.float()\n",
    "        tgt = tgt.float()\n",
    "\n",
    "        # Zero the gradients\n",
    "        optimizer.zero_grad()\n",
    "\n",
    "        src = (src - src.mean()) / src.std()\n",
    "        tgt = (tgt - tgt.mean()) / tgt.std()\n",
    "\n",
    "        # Forward pass through the model\n",
    "        output = model(src, tgt, angle)\n",
    "        \n",
    "        # remove the last feature dimension from output\n",
    "        # [batch_size, d_model, seq_length] --> [batch_size, d_model-1, seq_length]\n",
    "        output = output[:, :-1, :]\n",
    "        #print(output.shape, tgt.shape)\n",
    "        # Compute the loss\n",
    "        loss = loss_function(output, tgt)\n",
    "\n",
    "        # Backward pass\n",
    "        loss.backward()\n",
    "\n",
    "        # Update the weights\n",
    "        optimizer.step()\n",
    "\n",
    "        # Accumulate the batch loss\n",
    "        epoch_loss += loss.item()\n",
    "\n",
    "    # Print the average loss for this epoch\n",
    "    print(f'Epoch {epoch+1}, Loss: {epoch_loss / len(dataloader)}')"
   ]
  },
  {
   "cell_type": "code",
   "execution_count": 152,
   "metadata": {},
   "outputs": [
    {
     "data": {
      "text/plain": [
       "tensor([[[ 1.1777e-03, -1.5491e-03,  1.2986e-03,  ...,  4.7236e-05,\n",
       "           4.7236e-05,  4.7236e-05],\n",
       "         [ 4.3299e-04,  4.3299e-04,  4.3299e-04,  ...,  4.3299e-04,\n",
       "           4.3299e-04,  4.3299e-04]]], dtype=torch.float64)"
      ]
     },
     "execution_count": 152,
     "metadata": {},
     "output_type": "execute_result"
    },
    {
     "data": {
      "image/png": "[encoded data removed]",
      "text/plain": [
       "<Figure size 640x480 with 1 Axes>"
      ]
     },
     "metadata": {},
     "output_type": "display_data"
    }
   ],
   "source": [
    "# Get src, tgt, and angle from the first batch\n",
    "src, tgt, angle = next(iter(dataloader))\n",
    "# Get first elements\n",
    "src = src[0:1]\n",
    "tgt = tgt[0:1]\n",
    "angle = angle[0:1]\n",
    "\n",
    "# plot the target\n",
    "plt.plot(tgt[0,0,:].detach().cpu().numpy())\n",
    "tgt"
   ]
  },
  {
   "cell_type": "code",
   "execution_count": 160,
   "metadata": {},
   "outputs": [
    {
     "data": {
      "text/plain": [
       "array([ 3.77852912e-02, -4.01654204e-03,  3.73551157e-02,  7.73091339e-03,\n",
       "        1.74173118e-02,  6.66666434e-03,  1.39616821e-02,  8.24650423e-03,\n",
       "       -5.27145501e-03,  1.63275259e-02, -1.85339146e-03,  2.52421640e-02,\n",
       "       -8.54528179e-03,  2.06540320e-02,  5.00195532e-03,  1.08487203e-02,\n",
       "       -7.13157763e-03,  2.14062396e-02, -7.41060428e-03,  2.69516515e-02,\n",
       "       -1.17385645e-02,  1.93749805e-02,  1.47198434e-02, -2.68106262e-02,\n",
       "        4.51641858e-02, -5.10899634e-02,  6.65770926e-02, -3.87182313e-02,\n",
       "        4.53971518e-02, -1.84946171e-02,  4.06100618e-03,  9.20662130e-03,\n",
       "       -2.81948631e-02,  4.06701984e-02, -4.40110887e-02,  4.36390241e-02,\n",
       "       -3.84110946e-02,  4.07299140e-02, -3.30852595e-02,  4.03505845e-02,\n",
       "       -4.15764270e-02,  2.85782654e-02, -1.84035937e-02,  1.06619490e-02,\n",
       "        9.87559659e-03, -3.18587620e-02,  3.88815536e-02, -5.58735762e-02,\n",
       "        6.62138751e-02, -7.02538216e-02,  8.30278461e-02, -7.53922610e-02,\n",
       "        6.86990437e-02, -5.48000914e-02,  3.78305865e-02, -2.02522159e-02,\n",
       "       -2.45483336e-02,  3.79526794e-02, -7.92202118e-02,  9.62194747e-02,\n",
       "       -1.25704956e-01,  1.12964726e-01, -1.29731412e-01,  1.09846786e-01,\n",
       "       -1.04288123e-01,  5.15169872e-02, -5.32359198e-02, -3.75107827e-03,\n",
       "        2.18325710e-02, -6.83062362e-02,  9.27518833e-02, -1.39098555e-01,\n",
       "        1.62473360e-01, -1.87677611e-01,  1.87525843e-01, -1.94423289e-01,\n",
       "        1.56466367e-01, -1.37460458e-01,  7.01344341e-02, -3.35690367e-02,\n",
       "       -5.02508899e-02,  1.01783328e-01, -1.90767716e-01,  2.23100056e-01,\n",
       "       -3.07087851e-01,  3.18367168e-01, -3.73160588e-01,  3.31832187e-01,\n",
       "       -3.43971342e-01,  2.39671585e-01, -2.07191133e-01,  4.10323689e-02,\n",
       "        4.86820419e-02, -2.56800968e-01,  3.97485340e-01, -6.46653982e-01,\n",
       "        8.41673357e-01, -1.17154354e+00,  1.55151560e+00, -2.32021841e+00,\n",
       "        4.62178288e+00,  8.25317541e+00,  1.46332490e+00,  8.72728958e+00,\n",
       "        3.70833961e+00,  5.85978831e-01, -4.14454701e+00, -3.03302823e+00,\n",
       "        5.38348399e-01, -8.32835433e+00, -9.10409165e+00,  3.42039713e+00,\n",
       "        5.45474173e+00, -2.85548727e+00,  5.38029375e+00,  2.99888678e+00,\n",
       "       -2.00715757e+00, -9.96153157e-01, -5.55290732e-01,  1.47281461e+00,\n",
       "       -8.87227875e-01, -1.70326868e+00, -1.10568641e+00,  8.71754783e-01,\n",
       "       -1.28911273e+00,  1.30177147e+00,  2.17074955e+00, -1.31031394e-01,\n",
       "        1.20471174e+00,  5.76366037e-01,  3.98160099e-01, -6.79198105e-01,\n",
       "       -1.40658886e+00, -1.62581677e-01, -1.55788311e+00, -2.90754405e+00,\n",
       "        5.98407133e-01,  5.55405603e-01, -7.58094883e-01,  6.29632424e-01,\n",
       "        7.89045776e-01, -5.16207535e-01, -3.83323725e-01,  1.96526604e-01,\n",
       "        4.41372479e-01, -1.61607897e-01, -9.89622785e-01,  5.32801030e-01,\n",
       "       -5.78017485e-02, -5.23587099e-01, -1.11461583e-01,  1.59725388e-01,\n",
       "       -5.29930429e-02,  1.88296971e-01,  1.55032798e-01,  6.25400842e-02,\n",
       "        2.20456082e-01, -7.11092709e-01,  3.64613091e-01, -1.53743596e-01,\n",
       "       -7.35759807e-01,  2.20983393e-01,  2.09283666e-01, -4.94927570e-01,\n",
       "        4.62353190e-02, -4.04125694e-01, -9.70372493e-01,  1.44345524e-01,\n",
       "       -5.80268552e-01,  9.37844666e-02,  4.85519236e-01,  2.82881387e-01,\n",
       "        3.93040632e-01, -3.74895644e-01,  2.39226640e-01,  6.17512210e-01,\n",
       "       -1.12660776e+00, -9.96580955e-01,  7.66413387e-01, -3.29248756e-01,\n",
       "       -2.45829400e-01,  5.42053012e-01,  1.16279293e-02,  9.84961336e-02,\n",
       "       -4.06058861e-01, -3.10404927e-01,  5.14717046e-01, -5.37749264e-02,\n",
       "       -3.74441154e-01,  3.26757868e-01, -2.33870436e-01, -4.28292612e-01,\n",
       "        1.50604806e-01, -1.75645174e-01, -3.31955209e-02, -1.41932452e-02,\n",
       "       -1.27853696e-01,  2.03160647e-01, -3.46272789e-01, -6.96708436e-02,\n",
       "        4.18919072e-01, -5.50461663e-01, -3.80195696e-01,  2.72236474e-01,\n",
       "       -2.50247756e-01, -3.20286428e-01,  6.60832882e-02, -3.25262532e-02,\n",
       "       -6.47111159e-02, -2.67573844e-01, -7.48004303e-02,  3.35664701e-01,\n",
       "       -2.73552996e-01, -2.66556242e-01,  1.13298860e-01, -1.84686124e-01,\n",
       "       -2.16026673e-01, -6.44981139e-02, -1.09560588e-01, -5.28955590e-04,\n",
       "       -9.47800569e-02, -1.21300032e-01,  1.86164631e-01, -2.04299224e-01,\n",
       "       -1.27475497e-01,  1.92541987e-01, -2.66384182e-01, -1.85343535e-01,\n",
       "        1.02276724e-01, -1.17130601e-01, -8.63807868e-02,  6.35787888e-03,\n",
       "       -1.29067450e-01,  1.00677915e-02, -1.46818345e-01, -1.49635792e-01,\n",
       "        9.24974929e-02, -1.39441238e-01, -3.98301315e-02,  3.10355102e-02,\n",
       "       -1.71444806e-01,  5.99972929e-02,  3.32017269e-02, -2.61835799e-01,\n",
       "       -1.51143375e-02, -4.40233721e-02, -1.59067095e-01,  3.84525750e-02,\n",
       "       -1.03323364e-01, -2.52078813e-02,  5.97475384e-02, -2.22203690e-01,\n",
       "       -6.11036245e-02,  7.34978798e-02, -1.48391413e-01, -2.42316582e-02,\n",
       "       -2.26996119e-03, -1.06404163e-01, -3.96543693e-03, -9.51829006e-02,\n",
       "       -6.29528117e-02,  3.41155440e-02, -1.19224508e-01, -1.17234520e-02,\n",
       "        9.89674910e-03, -1.59694433e-01,  5.38246710e-02,  1.24319340e-02,\n",
       "       -1.65398800e-01,  1.21405248e-02, -1.18914524e-02, -9.16367272e-02,\n",
       "       -2.48856829e-02, -7.18222324e-02, -5.14286234e-03, -7.87451698e-03,\n",
       "       -1.57578556e-01,  1.72378419e-02,  3.67736842e-02, -1.18071696e-01,\n",
       "       -1.80265450e-02, -2.28944046e-02, -5.94260867e-02, -2.99960931e-02,\n",
       "       -8.02104736e-02, -2.46993782e-02,  3.78446523e-03, -1.07224917e-01,\n",
       "       -1.84516470e-03,  3.64136907e-03, -1.11954910e-01,  1.68628686e-02,\n",
       "       -1.22422630e-02, -9.17909420e-02, -1.39287130e-02, -2.90888241e-02,\n",
       "       -4.78519460e-02, -1.54693264e-02, -6.20811145e-02, -9.31282179e-03,\n",
       "       -6.30253278e-03, -9.45496217e-02,  1.19095408e-03, -7.58889753e-03,\n",
       "       -6.68614603e-02, -4.81394127e-03, -3.15882886e-02, -4.17752461e-02,\n",
       "        1.32996478e-02, -5.41653190e-02, -2.54452574e-02,  4.57414318e-03,\n",
       "       -7.31107966e-02, -1.01205834e-03, -1.54803405e-02, -5.87313131e-02,\n",
       "        1.74429655e-02, -2.15481344e-02, -5.49575223e-02,  3.80976365e-03,\n",
       "       -3.18003974e-02, -2.10635821e-02, -1.16702307e-02, -3.72896751e-02,\n",
       "       -1.48244916e-03, -1.79110865e-02, -3.95671404e-02, -6.29871524e-03,\n",
       "       -1.79711691e-03, -4.22139536e-02,  9.98313044e-03, -2.71112477e-02,\n",
       "       -2.53676477e-02,  1.76282051e-02, -3.80484808e-02, -1.03202094e-02,\n",
       "        4.36864239e-03, -2.65495591e-02, -6.19578761e-03,  2.56129319e-03,\n",
       "       -4.40126004e-02,  3.97808127e-02, -3.35001024e-02, -2.25630622e-02,\n",
       "        3.13297077e-02, -4.10792813e-02,  3.47740559e-02, -3.44680707e-02,\n",
       "        1.06296300e-02,  5.85287200e-03,  6.39828198e-03,  6.39828198e-03,\n",
       "        6.39828198e-03,  6.39828198e-03,  6.39828198e-03,  6.39828198e-03,\n",
       "        6.39828198e-03,  6.39828198e-03,  6.39828198e-03,  6.39828198e-03,\n",
       "        6.39828198e-03,  6.39828198e-03,  6.39828198e-03,  6.39828198e-03,\n",
       "        6.39828198e-03,  6.39828198e-03,  6.39828198e-03,  6.39828198e-03,\n",
       "        6.39828198e-03,  6.39828198e-03,  6.39828198e-03,  6.39828198e-03,\n",
       "        6.39828198e-03,  6.39828198e-03,  6.39828198e-03,  6.39828198e-03,\n",
       "        6.39828198e-03,  6.39828198e-03,  6.39828198e-03,  6.39828198e-03,\n",
       "        6.39828198e-03,  6.39828198e-03,  6.39828198e-03,  6.39828198e-03,\n",
       "        6.39828198e-03,  6.39828198e-03,  6.39828198e-03,  6.39828198e-03,\n",
       "        6.39828198e-03,  6.39828198e-03,  6.39828198e-03,  6.39828198e-03,\n",
       "        6.39828198e-03,  6.39828198e-03,  6.39828198e-03,  6.39828198e-03,\n",
       "        6.39828198e-03,  6.39828198e-03,  6.39828198e-03,  6.39828198e-03,\n",
       "        6.39828198e-03,  6.39828198e-03,  6.39828198e-03,  6.39828198e-03,\n",
       "        6.39828198e-03,  6.39828198e-03,  6.39828198e-03,  6.39828198e-03,\n",
       "        6.39828198e-03,  6.39828198e-03,  6.39828198e-03,  6.39828198e-03,\n",
       "        6.39828198e-03,  6.39828198e-03,  6.39828198e-03,  6.39828198e-03,\n",
       "        6.39828198e-03,  6.39828198e-03,  6.39828198e-03,  6.39828198e-03,\n",
       "        6.39828198e-03,  6.39828198e-03,  6.39828198e-03,  6.39828198e-03,\n",
       "        6.39828198e-03,  6.39828198e-03,  6.39828198e-03,  6.39828198e-03,\n",
       "        6.39828198e-03,  6.39828198e-03,  6.39828198e-03,  6.39828198e-03,\n",
       "        6.39828198e-03,  6.39828198e-03,  6.39828198e-03,  6.39828198e-03,\n",
       "        6.39828198e-03,  6.39828198e-03,  6.39828198e-03,  6.39828198e-03,\n",
       "        6.39828198e-03,  6.39828198e-03,  6.39828198e-03,  6.39828198e-03,\n",
       "        6.39828198e-03,  6.39828198e-03,  6.39828198e-03,  6.39828198e-03,\n",
       "        6.39828198e-03,  6.39828198e-03,  6.39828198e-03,  6.39828198e-03,\n",
       "        6.39828198e-03,  6.39828198e-03,  6.39828198e-03,  6.39828198e-03,\n",
       "        6.39828198e-03,  6.39828198e-03,  6.39828198e-03,  6.39828198e-03,\n",
       "        6.39828198e-03,  6.39828198e-03,  6.39828198e-03,  6.39828198e-03,\n",
       "        6.39828198e-03,  6.39828198e-03,  6.39828198e-03,  6.39828198e-03,\n",
       "        6.39828198e-03,  6.39828198e-03,  6.39828198e-03,  6.39828198e-03,\n",
       "        6.39828198e-03,  6.39828198e-03,  6.39828198e-03,  6.39828198e-03,\n",
       "        6.39828198e-03,  6.39828198e-03,  6.39828198e-03,  6.39828198e-03,\n",
       "        6.39828198e-03,  6.39828198e-03,  6.39828198e-03,  6.39828198e-03,\n",
       "        6.39828198e-03,  6.39828198e-03,  6.39828198e-03,  6.39828198e-03,\n",
       "        6.39828198e-03,  6.39828198e-03,  6.39828198e-03,  6.39828198e-03,\n",
       "        6.39828198e-03,  6.39828198e-03,  6.39828198e-03,  6.39828198e-03,\n",
       "        6.39828198e-03,  6.39828198e-03,  6.39828198e-03,  6.39828198e-03,\n",
       "        6.39828198e-03,  6.39828198e-03,  6.39828198e-03,  6.39828198e-03,\n",
       "        6.39828198e-03,  6.39828198e-03,  6.39828198e-03,  6.39828198e-03,\n",
       "        6.39828198e-03,  6.39828198e-03,  6.39828198e-03,  6.39828198e-03])"
      ]
     },
     "execution_count": 160,
     "metadata": {},
     "output_type": "execute_result"
    },
    {
     "data": {
      "image/png": "[encoded data removed]",
      "text/plain": [
       "<Figure size 640x480 with 1 Axes>"
      ]
     },
     "metadata": {},
     "output_type": "display_data"
    },
    {
     "data": {
      "image/png": "[encoded data removed]",
      "text/plain": [
       "<Figure size 640x480 with 1 Axes>"
      ]
     },
     "metadata": {},
     "output_type": "display_data"
    }
   ],
   "source": [
    "import numpy as np\n",
    "# plot the src\n",
    "a = src[0,0,:].detach().cpu().numpy()\n",
    "plt.plot(a)\n",
    "plt.figure()\n",
    "# Assume hrir is your HRIR data\n",
    "hrir_mean = np.mean(a)\n",
    "hrir_std = np.std(a)\n",
    "\n",
    "hrir_standardized = (a - hrir_mean) / hrir_std\n",
    "plt.plot(hrir_standardized)\n",
    "# src\n",
    "hrir_standardized"
   ]
  },
  {
   "cell_type": "code",
   "execution_count": 154,
   "metadata": {},
   "outputs": [
    {
     "data": {
      "text/plain": [
       "tensor([[[1.2782e-03, 1.2782e-03, 1.2782e-03,  ..., 1.2782e-03,\n",
       "          1.2781e-03, 1.2782e-03],\n",
       "         [2.4054e-03, 2.4054e-03, 2.4054e-03,  ..., 2.4054e-03,\n",
       "          2.4055e-03, 2.4054e-03],\n",
       "         [1.4142e+00, 1.4142e+00, 1.4142e+00,  ..., 1.4142e+00,\n",
       "          1.4142e+00, 1.4142e+00]]], grad_fn=<PermuteBackward0>)"
      ]
     },
     "execution_count": 154,
     "metadata": {},
     "output_type": "execute_result"
    }
   ],
   "source": [
    "# Pass the src, tgt, and angle through the model\n",
    "model.eval()\n",
    "output = model(src.to(device).float(), tgt.to(device).float(), angle.to(device).float())\n",
    "output"
   ]
  },
  {
   "cell_type": "code",
   "execution_count": 155,
   "metadata": {},
   "outputs": [
    {
     "data": {
      "text/plain": [
       "[<matplotlib.lines.Line2D at 0x1eb3508c4d0>]"
      ]
     },
     "execution_count": 155,
     "metadata": {},
     "output_type": "execute_result"
    },
    {
     "data": {
      "image/png": "[encoded data removed]",
      "text/plain": [
       "<Figure size 640x480 with 1 Axes>"
      ]
     },
     "metadata": {},
     "output_type": "display_data"
    }
   ],
   "source": [
    "# Plot the output\n",
    "plt.plot(output[0,0,:].detach().cpu().numpy())"
   ]
  },
  {
   "cell_type": "code",
   "execution_count": null,
   "metadata": {},
   "outputs": [],
   "source": []
  }
 ],
 "metadata": {
  "kernelspec": {
   "display_name": ".venv",
   "language": "python",
   "name": "python3"
  },
  "language_info": {
   "codemirror_mode": {
    "name": "ipython",
    "version": 3
   },
   "file_extension": ".py",
   "mimetype": "text/x-python",
   "name": "python",
   "nbconvert_exporter": "python",
   "pygments_lexer": "ipython3",
   "version": "3.12.0"
  }
 },
 "nbformat": 4,
 "nbformat_minor": 2
}
