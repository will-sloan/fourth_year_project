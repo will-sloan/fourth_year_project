{
 "cells": [
  {
   "cell_type": "code",
   "execution_count": 1,
   "metadata": {},
   "outputs": [],
   "source": [
    "# To hold the code of a blank transformer model\n",
    "import sys\n",
    "sys.path.append('/workspace/fourth_year_project/MusicGen')\n",
    "#print(sys.path)"
   ]
  },
  {
   "cell_type": "code",
   "execution_count": 2,
   "metadata": {},
   "outputs": [],
   "source": [
    "from MyAudioDataset import MyAudioDataset"
   ]
  },
  {
   "cell_type": "code",
   "execution_count": 3,
   "metadata": {},
   "outputs": [],
   "source": [
    "import torch\n",
    "from torch import nn\n"
   ]
  },
  {
   "cell_type": "code",
   "execution_count": 4,
   "metadata": {},
   "outputs": [],
   "source": [
    "\n",
    "class AudioTransformer(nn.Module):\n",
    "    def __init__(self, d_model, nhead, num_layers, dim_feedforward):\n",
    "        super(AudioTransformer, self).__init__()\n",
    "        self.transformer = nn.Transformer(d_model, nhead, num_layers, dim_feedforward)\n",
    "        self.input_encoding = nn.Linear(1, d_model)  # input of mono audio\n",
    "        #self.angle_encoding = nn.Linear(6, d_model)  # add this once 90 works. \n",
    "        self.output_decoding = nn.Linear(d_model, 2)  # Decoding back to stereo audio\n",
    "\n",
    "    def forward(self, audio, angle):\n",
    "        # audio: (batch_size, 1, seq_length)\n",
    "        # angle: (batch_size, 6)  # one-hot encoded angle\n",
    "        audio = self.input_encoding(audio)\n",
    "\n",
    "        #angle = self.angle_encoding(angle)  # Process one-hot encoded angle\n",
    "        #angle = angle.unsqueeze(1).repeat(1, audio.size(2), 1)  # Repeat angle for each time step\n",
    "        #x = audio + angle  # Combine audio and angle\n",
    "\n",
    "        x = self.transformer(x.permute(2, 0, 1))  # Transformer expects input in the form (seq_length, batch_size, d_model)\n",
    "        x = x.permute(1, 2, 0)  # Bring it back to (batch_size, d_model, seq_length)\n",
    "        x = self.output_decoding(x)\n",
    "        return x.view(-1, 2, 30*44100)  # Reshape to stereo audio\n",
    "    \n",
    "    def train(self, dataset, batch_size, epochs, lr):\n",
    "        # dataset: MyAudioDataset object\n",
    "        # batch_size: int\n",
    "        # epochs: int\n",
    "        # lr: float\n",
    "        #loss_fn = nn.MSELoss()\n",
    "        loss_fn = nn.CosineEmbeddingLoss\n",
    "        optimizer = torch.optim.Adam(self.parameters(), lr=lr)\n",
    "        train_loader = torch.utils.data.DataLoader(dataset, batch_size=batch_size, shuffle=True)\n",
    "\n",
    "        for epoch in range(epochs):\n",
    "            for i, (audio, angle) in enumerate(train_loader):\n",
    "                optimizer.zero_grad()\n",
    "                output = self(audio, angle)\n",
    "                loss = loss_fn(output, audio)\n",
    "                loss.backward()\n",
    "                optimizer.step()\n",
    "                print(f\"Epoch {epoch}, batch {i}, loss {loss.item()}\")\n",
    "\n",
    "            torch.save(self.state_dict(), f\"model_{epoch}.pth\")\n",
    "            print(f\"Saved model_{epoch}.pth\")\n",
    "\n",
    "        print(\"Finished Training\")"
   ]
  },
  {
   "cell_type": "code",
   "execution_count": null,
   "metadata": {},
   "outputs": [],
   "source": []
  }
 ],
 "metadata": {
  "kernelspec": {
   "display_name": "venv_work",
   "language": "python",
   "name": "venv_work"
  },
  "language_info": {
   "codemirror_mode": {
    "name": "ipython",
    "version": 3
   },
   "file_extension": ".py",
   "mimetype": "text/x-python",
   "name": "python",
   "nbconvert_exporter": "python",
   "pygments_lexer": "ipython3",
   "version": "3.8.13"
  }
 },
 "nbformat": 4,
 "nbformat_minor": 2
}
