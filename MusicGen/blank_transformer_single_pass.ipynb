{
 "cells": [
  {
   "cell_type": "code",
   "execution_count": 1,
   "metadata": {},
   "outputs": [
    {
     "name": "stderr",
     "output_type": "stream",
     "text": [
      "/workspace/venv_work/lib/python3.8/site-packages/torch/nn/utils/weight_norm.py:30: UserWarning: torch.nn.utils.weight_norm is deprecated in favor of torch.nn.utils.parametrizations.weight_norm.\n",
      "  warnings.warn(\"torch.nn.utils.weight_norm is deprecated in favor of torch.nn.utils.parametrizations.weight_norm.\")\n"
     ]
    }
   ],
   "source": [
    "# To hold the code of a blank transformer model\n",
    "import sys\n",
    "sys.path.append('/workspace/fourth_year_project/MusicGen')\n",
    "#print(sys.path)\n",
    "from MyAudioDataset import MyAudioDataset\n",
    "import torch\n",
    "from torch import nn\n",
    "import torchaudio\n",
    "mydataset = MyAudioDataset('/workspace/small_model_data2', 'recording_01_')\n",
    "from audiocraft.models import CompressionModel\n",
    "from audiocraft.models.encodec import InterleaveStereoCompressionModel\n",
    "model = CompressionModel.get_pretrained('facebook/encodec_32khz')\n",
    "#model = model.cuda()\n",
    "comp_model = InterleaveStereoCompressionModel(model)\n",
    "# move to GPU\n",
    "##comp_model = comp_model.cuda()\n",
    "\n",
    "# source_comp=model\n",
    "target_comp=comp_model\n",
    "#d_model=1500 # once we get more memory\n",
    "d_model=512\n",
    "nhead=4\n",
    "num_layers=3\n",
    "dim_feedforward=256\n",
    "\n"
   ]
  },
  {
   "cell_type": "code",
   "execution_count": 2,
   "metadata": {},
   "outputs": [],
   "source": [
    "#nn.Transformer(d_model, nhead, num_layers, dim_feedforward)"
   ]
  },
  {
   "cell_type": "code",
   "execution_count": 2,
   "metadata": {},
   "outputs": [],
   "source": [
    "import torch\n",
    "import torch.nn as nn\n",
    "import torch.nn.functional as F\n",
    "\n",
    "class SimpleModel(nn.Module):\n",
    "    def __init__(self, comp_model, d_model, nhead, num_layers, dim_feedforward):\n",
    "        super(SimpleModel, self).__init__()\n",
    "        self.tl = nn.Transformer(d_model, nhead, num_layers, dim_feedforward) \n",
    "        self.il = nn.Linear(1500, d_model)\n",
    "        self.ol = nn.Linear(d_model, 1500)\n",
    "        self.comp_model = comp_model\n",
    "    \n",
    "    def forward(self, orig, target, angle):\n",
    "        # Transform audios into a tesnor usable by the transformer\n",
    "        print(orig)\n",
    "        orig = self.il(orig)\n",
    "        target = self.il(target)\n",
    "        orig = F.relu(orig)\n",
    "        target = F.relu(target)\n",
    "        #temp  = orig\n",
    "        print(orig.shape)\n",
    "        print(target.shape)\n",
    "        print(orig)\n",
    "        #orig = orig.permute(2, 0, 1)\n",
    "        #target = target.permute(2, 0, 1)\n",
    "        #print(orig.shape)\n",
    "        #print(target.shape)\n",
    "\n",
    "\n",
    "        #x = orig\n",
    "        #angle = self.angle_encoding(angle)  # Process one-hot encoded angle\n",
    "        #angle = angle.unsqueeze(1).repeat(1, audio.size(2), 1)  # Repeat angle for each time step\n",
    "        #x = audio + angle  # Combine audio and angle\n",
    "        # Pass the audio through the transformer\n",
    "        # The transformer expects the shape (seq_len, batch_size, input_size)\n",
    "        x = self.tl(src=orig, tgt=target)\n",
    "        x = F.relu(x)\n",
    "        # Get back \n",
    "        print(x.shape)\n",
    "        print(x)\n",
    "        #x = x.permute(1, 2, 0)\n",
    "        x = self.ol(x)\n",
    "        x = F.relu(x)\n",
    "        print(x.shape)\n",
    "        print(x)\n",
    "        #print(x)\n",
    "\n",
    "        #return x.view(-1, 2, 30*44100)\n",
    "        x = x * 1000\n",
    "        x = torch.round(x)\n",
    "        \n",
    "        return x\n",
    "    \n",
    "# torch.Size([1, 4, 1500])\n",
    "# torch.Size([1, 4, 256])\n",
    "# torch.Size([1, 4, 2])\n",
    "# tensor([[[-219.0613,  256.4537],\n",
    "#          [-631.1140,  370.1495],\n",
    "#          [-156.5977,   39.5030],\n",
    "#          [  52.4517,  273.8931]]], grad_fn=<ViewBackward0>)\n"
   ]
  },
  {
   "cell_type": "code",
   "execution_count": 3,
   "metadata": {},
   "outputs": [
    {
     "name": "stderr",
     "output_type": "stream",
     "text": [
      "/workspace/venv_work/lib/python3.8/site-packages/torch/nn/modules/transformer.py:282: UserWarning: enable_nested_tensor is True, but self.use_nested_tensor is False because encoder_layer.self_attn.batch_first was not True(use batch_first for better inference performance)\n",
      "  warnings.warn(f\"enable_nested_tensor is True, but self.use_nested_tensor is False because {why_not_sparsity_fast_path}\")\n"
     ]
    }
   ],
   "source": [
    "big_model = SimpleModel(d_model, nhead, num_layers, dim_feedforward)"
   ]
  },
  {
   "cell_type": "code",
   "execution_count": 4,
   "metadata": {},
   "outputs": [],
   "source": [
    "def compress_mono(mono):\n",
    "        #mono = mono.cuda()\n",
    "        with torch.no_grad():\n",
    "            mono, scale = target_comp.encode(mono)\n",
    "        return mono\n",
    "\n",
    "def compress_stereo(stereo):\n",
    "        #stereo = stereo.cuda()\n",
    "        with torch.no_grad():\n",
    "            stereo, scale = target_comp.encode(stereo)\n",
    "        return stereo\n",
    "\n",
    "def decompress_mono(mono):\n",
    "        #mono = mono.cuda()\n",
    "        with torch.no_grad():\n",
    "            mono = target_comp.decode(mono)\n",
    "        return mono\n",
    "\n",
    "def decompress_stereo(stereo):\n",
    "        #stereo = stereo.cuda()\n",
    "        with torch.no_grad():\n",
    "            stereo = target_comp.decode(stereo)\n",
    "        return stereo"
   ]
  },
  {
   "cell_type": "code",
   "execution_count": 5,
   "metadata": {},
   "outputs": [],
   "source": [
    "batch_size = 1\n",
    "lr = 0.0001\n",
    "loss_fn = nn.CosineEmbeddingLoss()\n",
    "optimizer = torch.optim.Adam(big_model.parameters(), lr=lr)\n",
    "train_loader = torch.utils.data.DataLoader(mydataset, batch_size=batch_size, shuffle=True)"
   ]
  },
  {
   "cell_type": "code",
   "execution_count": 6,
   "metadata": {},
   "outputs": [],
   "source": [
    "target, orig, angle, sr  = train_loader.__iter__().__next__()"
   ]
  },
  {
   "cell_type": "code",
   "execution_count": 7,
   "metadata": {},
   "outputs": [],
   "source": [
    "# Convert wav to codes\n",
    "target_codes = compress_stereo(target)\n",
    "orig_codes = compress_mono(orig)\n",
    "# print(type(target_codes[0][0]))\n",
    "# print(type(orig_codes[0][0]))"
   ]
  },
  {
   "cell_type": "code",
   "execution_count": 11,
   "metadata": {},
   "outputs": [
    {
     "name": "stdout",
     "output_type": "stream",
     "text": [
      "torch.Size([1, 8, 1500])\n",
      "torch.Size([1, 8, 1500])\n"
     ]
    }
   ],
   "source": [
    "print(orig_codes.shape)\n",
    "print(target_codes.shape)"
   ]
  },
  {
   "cell_type": "code",
   "execution_count": 80,
   "metadata": {},
   "outputs": [],
   "source": [
    "# Decode orig_codes and write to wav file\n",
    "# orig_decoded = decompress_mono(orig_codes)\n",
    "# torchaudio.save(\"orig_decoded.wav\", orig_decoded.squeeze(0), sr)"
   ]
  },
  {
   "cell_type": "code",
   "execution_count": 8,
   "metadata": {},
   "outputs": [
    {
     "name": "stdout",
     "output_type": "stream",
     "text": [
      "tensor([[[ 289., 1706.,  289.,  ..., 1082.,  905., 1044.],\n",
      "         [ 289., 1706.,  289.,  ..., 1082.,  905., 1044.],\n",
      "         [ 449., 1085.,  449.,  ..., 1177., 1037., 1322.],\n",
      "         ...,\n",
      "         [1747., 1509.,  363.,  ...,  604.,  993.,  690.],\n",
      "         [1848., 1848., 1185.,  ...,  569., 2026.,  786.],\n",
      "         [1848., 1848., 1185.,  ...,  569., 2026.,  786.]]])\n",
      "torch.Size([1, 8, 512])\n",
      "torch.Size([1, 8, 512])\n",
      "tensor([[[  0.0000,   0.0000, 449.8561,  ..., 140.1727, 150.7595, 551.3794],\n",
      "         [  0.0000,   0.0000, 449.8561,  ..., 140.1727, 150.7595, 551.3794],\n",
      "         [  0.0000,   0.0000,   0.0000,  ...,   0.0000,   0.0000, 425.9550],\n",
      "         ...,\n",
      "         [  0.0000,   0.0000, 536.1402,  ...,   0.0000,   0.0000, 777.7769],\n",
      "         [  0.0000,   0.0000,   0.0000,  ...,   0.0000,   0.0000, 613.6776],\n",
      "         [  0.0000,   0.0000,   0.0000,  ...,   0.0000,   0.0000, 613.6779]]],\n",
      "       grad_fn=<ReluBackward0>)\n",
      "torch.Size([1, 8, 512])\n",
      "tensor([[[0.0000, 0.0000, 0.6107,  ..., 0.0000, 0.2548, 0.0000],\n",
      "         [0.3571, 0.0000, 0.5867,  ..., 0.0000, 1.1249, 0.0000],\n",
      "         [0.7010, 0.0000, 0.0000,  ..., 0.0000, 2.0907, 0.0000],\n",
      "         ...,\n",
      "         [0.4270, 0.0000, 0.0000,  ..., 0.0000, 0.0000, 0.4595],\n",
      "         [0.0000, 0.0000, 0.0000,  ..., 0.0000, 0.4536, 0.0388],\n",
      "         [0.0759, 0.0000, 0.0000,  ..., 0.2590, 1.8438, 0.0000]]],\n",
      "       grad_fn=<ReluBackward0>)\n",
      "torch.Size([1, 8, 1500])\n",
      "tensor([[[0.0000, 0.0125, 0.1503,  ..., 0.5045, 1.2405, 0.0000],\n",
      "         [0.0000, 0.4997, 0.0000,  ..., 0.6158, 0.2675, 0.0000],\n",
      "         [0.3835, 0.4361, 0.0000,  ..., 0.7096, 0.3922, 0.0000],\n",
      "         ...,\n",
      "         [0.7278, 0.5053, 0.0000,  ..., 0.8922, 0.6495, 0.0000],\n",
      "         [0.4282, 0.0000, 0.0000,  ..., 0.6083, 0.0000, 0.0000],\n",
      "         [0.2805, 0.2882, 0.0000,  ..., 0.3818, 0.3017, 0.0000]]],\n",
      "       grad_fn=<ReluBackward0>)\n"
     ]
    }
   ],
   "source": [
    "# Pass codes to model\n",
    "output = big_model.forward(orig=orig_codes.float(), target=target_codes.float(), angle=angle)"
   ]
  },
  {
   "cell_type": "code",
   "execution_count": 11,
   "metadata": {},
   "outputs": [
    {
     "data": {
      "text/plain": [
       "tensor([[[ 975,    0,    0,  ...,    0,    0,    0],\n",
       "         [ 633,    0,    0,  ...,    0,    0,  309],\n",
       "         [1085,    0,   60,  ...,    0,    0,  131],\n",
       "         ...,\n",
       "         [ 652,    0,    0,  ...,    0,    0,   74],\n",
       "         [ 643,    0,  426,  ...,    0,    0,  204],\n",
       "         [1126,    0,    0,  ...,    0,    0,  236]]])"
      ]
     },
     "execution_count": 11,
     "metadata": {},
     "output_type": "execute_result"
    }
   ],
   "source": [
    "output.long()"
   ]
  },
  {
   "cell_type": "code",
   "execution_count": 12,
   "metadata": {},
   "outputs": [],
   "source": [
    "test = decompress_stereo(output.long())"
   ]
  },
  {
   "cell_type": "code",
   "execution_count": 14,
   "metadata": {},
   "outputs": [
    {
     "data": {
      "text/plain": [
       "tensor([[[ 753, 1173,  905,  ...,  753,  421,  237],\n",
       "         [ 753, 1173,  905,  ...,  753,  421,  237],\n",
       "         [ 359, 1886,  942,  ..., 1362,  237,  237],\n",
       "         ...,\n",
       "         [ 364,  364,  364,  ..., 2004, 1771, 1817],\n",
       "         [ 937,  616,  457,  ...,  569, 1862, 1670],\n",
       "         [ 937,  616,  457,  ...,  569, 1862, 1670]]])"
      ]
     },
     "execution_count": 14,
     "metadata": {},
     "output_type": "execute_result"
    }
   ],
   "source": [
    "orig_codes"
   ]
  },
  {
   "cell_type": "code",
   "execution_count": 16,
   "metadata": {},
   "outputs": [
    {
     "data": {
      "text/plain": [
       "torch.Size([1, 2, 960000])"
      ]
     },
     "execution_count": 16,
     "metadata": {},
     "output_type": "execute_result"
    }
   ],
   "source": [
    "test.shape"
   ]
  },
  {
   "cell_type": "code",
   "execution_count": 9,
   "metadata": {},
   "outputs": [
    {
     "name": "stdout",
     "output_type": "stream",
     "text": [
      "torch.Size([1, 8, 1500])\n",
      "torch.Size([1, 8, 1500])\n"
     ]
    }
   ],
   "source": [
    "# Decode output and write to wav file\n",
    "print(output.shape)\n",
    "# output_long = output.long()\n",
    "output_long = output.long()\n",
    "print(output_long.shape)\n",
    "#output_long = output_long.detach()\n",
    "output_decoded = decompress_stereo(output_long)\n"
   ]
  },
  {
   "cell_type": "code",
   "execution_count": 34,
   "metadata": {},
   "outputs": [
    {
     "data": {
      "text/plain": [
       "tensor([[[ 1.1368,  0.8603,  0.8113,  ..., -0.3229, -0.2350, -0.1617],\n",
       "         [ 0.9810,  0.5397,  0.2394,  ..., -0.2302, -0.0285,  0.1562],\n",
       "         [ 0.6487,  0.1905,  0.1957,  ..., -0.0884, -0.7348,  0.4391],\n",
       "         ...,\n",
       "         [ 0.7128,  0.5623,  0.0651,  ..., -0.5786, -0.8431,  0.1754],\n",
       "         [ 1.2342,  1.2292, -0.0417,  ..., -0.5404, -1.2691, -0.4537],\n",
       "         [ 1.1847,  1.5206,  0.3925,  ..., -0.4890, -1.0263, -0.0259]]],\n",
       "       grad_fn=<ViewBackward0>)"
      ]
     },
     "execution_count": 34,
     "metadata": {},
     "output_type": "execute_result"
    }
   ],
   "source": [
    "output"
   ]
  },
  {
   "cell_type": "code",
   "execution_count": 19,
   "metadata": {},
   "outputs": [],
   "source": [
    "torchaudio.save(\"output_decoded.wav\", output_decoded.squeeze(0), sr)"
   ]
  },
  {
   "cell_type": "code",
   "execution_count": 20,
   "metadata": {},
   "outputs": [
    {
     "data": {
      "text/plain": [
       "torch.Size([1, 8, 1500])"
      ]
     },
     "execution_count": 20,
     "metadata": {},
     "output_type": "execute_result"
    }
   ],
   "source": [
    "output.shape"
   ]
  },
  {
   "cell_type": "code",
   "execution_count": 15,
   "metadata": {},
   "outputs": [],
   "source": [
    "# loss = loss_fn(output, target_codes)\n",
    "y = torch.ones(target_codes.size(0))\n",
    "loss = loss_fn(output.squeeze(0), target_codes.squeeze(0), y)\n"
   ]
  },
  {
   "cell_type": "code",
   "execution_count": 12,
   "metadata": {},
   "outputs": [],
   "source": [
    "loss.backward()\n"
   ]
  },
  {
   "cell_type": "code",
   "execution_count": 13,
   "metadata": {},
   "outputs": [
    {
     "name": "stdout",
     "output_type": "stream",
     "text": [
      "Epoch 1, batch 1, loss 0.4985882043838501\n"
     ]
    }
   ],
   "source": [
    "epoch = 1\n",
    "i=1\n",
    "optimizer.step()\n",
    "print(f\"Epoch {epoch}, batch {i}, loss {loss.item()}\")"
   ]
  },
  {
   "cell_type": "code",
   "execution_count": 1,
   "metadata": {},
   "outputs": [
    {
     "ename": "NameError",
     "evalue": "name 'y' is not defined",
     "output_type": "error",
     "traceback": [
      "\u001b[0;31m---------------------------------------------------------------------------\u001b[0m",
      "\u001b[0;31mNameError\u001b[0m                                 Traceback (most recent call last)",
      "Cell \u001b[0;32mIn[1], line 1\u001b[0m\n\u001b[0;32m----> 1\u001b[0m \u001b[43my\u001b[49m\u001b[38;5;241m.\u001b[39mshape\n",
      "\u001b[0;31mNameError\u001b[0m: name 'y' is not defined"
     ]
    }
   ],
   "source": [
    "y.shape"
   ]
  },
  {
   "cell_type": "code",
   "execution_count": 70,
   "metadata": {},
   "outputs": [
    {
     "data": {
      "text/plain": [
       "tensor(2047)"
      ]
     },
     "execution_count": 70,
     "metadata": {},
     "output_type": "execute_result"
    }
   ],
   "source": []
  },
  {
   "cell_type": "code",
   "execution_count": 88,
   "metadata": {},
   "outputs": [
    {
     "data": {
      "text/plain": [
       "tensor([[[ 166,  166, 1507,  ..., 1472, 1188,  263],\n",
       "         [ 166,  166, 1507,  ..., 1472, 1188,  263],\n",
       "         [1534, 1534, 1782,  ..., 1495, 1632, 1293],\n",
       "         ...,\n",
       "         [2019, 1540, 2002,  ...,  551, 1540, 1522],\n",
       "         [1951, 1854,  531,  ..., 1759, 1848, 2019],\n",
       "         [1951, 1854,  531,  ..., 1759, 1848, 2019]]])"
      ]
     },
     "execution_count": 88,
     "metadata": {},
     "output_type": "execute_result"
    }
   ],
   "source": []
  },
  {
   "cell_type": "code",
   "execution_count": null,
   "metadata": {},
   "outputs": [],
   "source": []
  }
 ],
 "metadata": {
  "kernelspec": {
   "display_name": "venv_work",
   "language": "python",
   "name": "venv_work"
  },
  "language_info": {
   "codemirror_mode": {
    "name": "ipython",
    "version": 3
   },
   "file_extension": ".py",
   "mimetype": "text/x-python",
   "name": "python",
   "nbconvert_exporter": "python",
   "pygments_lexer": "ipython3",
   "version": "3.8.13"
  }
 },
 "nbformat": 4,
 "nbformat_minor": 2
}
